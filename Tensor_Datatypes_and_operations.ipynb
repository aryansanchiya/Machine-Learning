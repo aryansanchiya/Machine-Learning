{
  "nbformat": 4,
  "nbformat_minor": 0,
  "metadata": {
    "colab": {
      "provenance": [],
      "gpuType": "T4",
      "authorship_tag": "ABX9TyMQ4TPMGMUwyoGq0h/3sRLf",
      "include_colab_link": true
    },
    "kernelspec": {
      "name": "python3",
      "display_name": "Python 3"
    },
    "language_info": {
      "name": "python"
    },
    "accelerator": "GPU"
  },
  "cells": [
    {
      "cell_type": "markdown",
      "metadata": {
        "id": "view-in-github",
        "colab_type": "text"
      },
      "source": [
        "<a href=\"https://colab.research.google.com/github/aryansanchiya/Machine-Learning/blob/main/Tensor_Datatypes_and_operations.ipynb\" target=\"_parent\"><img src=\"https://colab.research.google.com/assets/colab-badge.svg\" alt=\"Open In Colab\"/></a>"
      ]
    },
    {
      "cell_type": "code",
      "execution_count": 1,
      "metadata": {
        "id": "3T-jAdWvReKI"
      },
      "outputs": [],
      "source": [
        "import torch"
      ]
    },
    {
      "cell_type": "code",
      "source": [
        "#https://www.udemy.com/course/pytorch-for-deep-learning/learn/lecture/32656962#overview"
      ],
      "metadata": {
        "id": "rIjtIvjmRmlg"
      },
      "execution_count": null,
      "outputs": []
    },
    {
      "cell_type": "code",
      "source": [
        "float_32_tensor = torch.tensor([3.0, 6.0, 9.0],\n",
        "                               dtype = None)\n",
        "float_32_tensor"
      ],
      "metadata": {
        "colab": {
          "base_uri": "https://localhost:8080/"
        },
        "id": "Yr27NA9QRwSr",
        "outputId": "ab694f06-3f7d-4f71-95c4-4473c64ccc7c"
      },
      "execution_count": null,
      "outputs": [
        {
          "output_type": "execute_result",
          "data": {
            "text/plain": [
              "tensor([3., 6., 9.])"
            ]
          },
          "metadata": {},
          "execution_count": 3
        }
      ]
    },
    {
      "cell_type": "code",
      "source": [
        "type(float_32_tensor)"
      ],
      "metadata": {
        "colab": {
          "base_uri": "https://localhost:8080/"
        },
        "id": "5XkV_IDBSP6j",
        "outputId": "0d06850f-5a61-4f43-99c5-f973f975abce"
      },
      "execution_count": null,
      "outputs": [
        {
          "output_type": "execute_result",
          "data": {
            "text/plain": [
              "torch.Tensor"
            ]
          },
          "metadata": {},
          "execution_count": 4
        }
      ]
    },
    {
      "cell_type": "code",
      "source": [
        "float_32_tensor.dtype"
      ],
      "metadata": {
        "colab": {
          "base_uri": "https://localhost:8080/"
        },
        "id": "HaYCVD6oST30",
        "outputId": "995fb7fe-b8eb-46c9-bcf3-24816de6c125"
      },
      "execution_count": null,
      "outputs": [
        {
          "output_type": "execute_result",
          "data": {
            "text/plain": [
              "torch.float32"
            ]
          },
          "metadata": {},
          "execution_count": 5
        }
      ]
    },
    {
      "cell_type": "code",
      "source": [
        "float_16_tensor = torch.tensor([3.0, 6.0, 9.0],\n",
        "                               dtype = torch.float16,\n",
        "                               device=None,\n",
        "                               requires_grad=False)\n",
        "float_16_tensor.dtype"
      ],
      "metadata": {
        "colab": {
          "base_uri": "https://localhost:8080/"
        },
        "id": "lDQz5tYcSdmg",
        "outputId": "15295549-78dc-4419-8035-7791e7d3233a"
      },
      "execution_count": null,
      "outputs": [
        {
          "output_type": "execute_result",
          "data": {
            "text/plain": [
              "torch.float16"
            ]
          },
          "metadata": {},
          "execution_count": 10
        }
      ]
    },
    {
      "cell_type": "code",
      "source": [
        "#\"dtype\" arguement is used for create diffrent kind of datatypes."
      ],
      "metadata": {
        "id": "9LF3MIcqS05x"
      },
      "execution_count": null,
      "outputs": []
    },
    {
      "cell_type": "code",
      "source": [
        "#How to change the datatype ?"
      ],
      "metadata": {
        "id": "DQDo26BTTEAH"
      },
      "execution_count": null,
      "outputs": []
    },
    {
      "cell_type": "code",
      "source": [
        "new_float_64 = float_32_tensor.type(torch.float64)"
      ],
      "metadata": {
        "id": "oDXHjaWiUzhr"
      },
      "execution_count": null,
      "outputs": []
    },
    {
      "cell_type": "code",
      "source": [
        "new_float_64.dtype"
      ],
      "metadata": {
        "colab": {
          "base_uri": "https://localhost:8080/"
        },
        "id": "SYjcNWGRVFJX",
        "outputId": "1640c541-18bb-4e5b-d441-e7ccbb64f600"
      },
      "execution_count": null,
      "outputs": [
        {
          "output_type": "execute_result",
          "data": {
            "text/plain": [
              "torch.float64"
            ]
          },
          "metadata": {},
          "execution_count": 16
        }
      ]
    },
    {
      "cell_type": "markdown",
      "source": [
        "Tutorial - 24"
      ],
      "metadata": {
        "id": "6sFgwEAvYlNY"
      }
    },
    {
      "cell_type": "code",
      "source": [
        "#https://www.udemy.com/course/pytorch-for-deep-learning/learn/lecture/32656964#questions"
      ],
      "metadata": {
        "id": "z6pDIYBMYhbP"
      },
      "execution_count": null,
      "outputs": []
    },
    {
      "cell_type": "code",
      "source": [
        "#Operations on diffrent datatypes"
      ],
      "metadata": {
        "id": "jIU_sS01VKOp"
      },
      "execution_count": null,
      "outputs": []
    },
    {
      "cell_type": "code",
      "source": [
        "int_32_tensor = torch.tensor([3, 4, 5],\n",
        "                             dtype = torch.int32)\n",
        "float_32_tensor"
      ],
      "metadata": {
        "colab": {
          "base_uri": "https://localhost:8080/"
        },
        "id": "8SX3zI2xVtSw",
        "outputId": "9b75b6ec-34ec-4193-c94a-eb2f586d4ae0"
      },
      "execution_count": null,
      "outputs": [
        {
          "output_type": "execute_result",
          "data": {
            "text/plain": [
              "tensor([3., 6., 9.])"
            ]
          },
          "metadata": {},
          "execution_count": 20
        }
      ]
    },
    {
      "cell_type": "code",
      "source": [
        "float_32_tensor * int_32_tensor"
      ],
      "metadata": {
        "colab": {
          "base_uri": "https://localhost:8080/"
        },
        "id": "mXcFYfycV7de",
        "outputId": "89546ee2-53af-47cc-cc83-aff822c6a61f"
      },
      "execution_count": null,
      "outputs": [
        {
          "output_type": "execute_result",
          "data": {
            "text/plain": [
              "tensor([ 9., 24., 45.])"
            ]
          },
          "metadata": {},
          "execution_count": 19
        }
      ]
    },
    {
      "cell_type": "code",
      "source": [
        "#Conclusion is that it works!"
      ],
      "metadata": {
        "id": "mKxXsq44WGDk"
      },
      "execution_count": null,
      "outputs": []
    },
    {
      "cell_type": "code",
      "source": [
        "#\"tensor.shape\" is used to know shape of the tensors\n",
        "#\"tensor.dtype\" is used to know datatype of the tensors\n",
        "#'tensor.device\" is used to know the device of the tensors (cpu/gpu)"
      ],
      "metadata": {
        "id": "RHyFNtq9Wmpa"
      },
      "execution_count": null,
      "outputs": []
    },
    {
      "cell_type": "code",
      "source": [
        "some_tensor = torch.rand(3,4)"
      ],
      "metadata": {
        "id": "Oj0bLp-VXyDY"
      },
      "execution_count": null,
      "outputs": []
    },
    {
      "cell_type": "code",
      "source": [
        "some_tensor"
      ],
      "metadata": {
        "colab": {
          "base_uri": "https://localhost:8080/"
        },
        "id": "agPU2Jf-X4Yr",
        "outputId": "16ea1dc5-2eac-4d28-9c54-929d4ee0df41"
      },
      "execution_count": null,
      "outputs": [
        {
          "output_type": "execute_result",
          "data": {
            "text/plain": [
              "tensor([[0.1478, 0.9802, 0.2238, 0.8624],\n",
              "        [0.3000, 0.1273, 0.6083, 0.3923],\n",
              "        [0.7102, 0.6185, 0.9551, 0.5857]])"
            ]
          },
          "metadata": {},
          "execution_count": 24
        }
      ]
    },
    {
      "cell_type": "code",
      "source": [
        "print(\"Datatype:\", some_tensor.dtype)\n",
        "print(\"Shape:\",some_tensor.shape)\n",
        "print(\"Device:\",some_tensor.device)"
      ],
      "metadata": {
        "colab": {
          "base_uri": "https://localhost:8080/"
        },
        "id": "rHo2jKX_X6SC",
        "outputId": "f62c90be-b6eb-4f83-d9ee-ec2ea33a87de"
      },
      "execution_count": null,
      "outputs": [
        {
          "output_type": "stream",
          "name": "stdout",
          "text": [
            "Datatype: torch.float32\n",
            "Shape: torch.Size([3, 4])\n",
            "Device: cpu\n"
          ]
        }
      ]
    },
    {
      "cell_type": "markdown",
      "source": [
        "## **`Manipulating Tensors`**\n",
        "[Tutorial - 26](https://www.udemy.com/course/pytorch-for-deep-learning/learn/lecture/32656966#content)"
      ],
      "metadata": {
        "id": "W4yEwipeZNVw"
      }
    },
    {
      "cell_type": "markdown",
      "source": [
        "***`Tensor Operation:`***\n",
        "\n",
        "\n",
        "\n",
        "---\n",
        "\n",
        "\n",
        "1.   Addition\n",
        "2.   Multiplication (Element Wise)\n",
        "3.   Division\n",
        "4.   Matrix Multiplication\n",
        "\n",
        "\n",
        "\n"
      ],
      "metadata": {
        "id": "2zYKhj_dZ3Yv"
      }
    },
    {
      "cell_type": "code",
      "source": [
        "new_tensor = torch.tensor([1, 2, 3])\n",
        "new_tensor + 10"
      ],
      "metadata": {
        "colab": {
          "base_uri": "https://localhost:8080/"
        },
        "id": "76wmLSfOYG2b",
        "outputId": "eeeb85e0-f478-4983-907f-51a84b52b335"
      },
      "execution_count": null,
      "outputs": [
        {
          "output_type": "execute_result",
          "data": {
            "text/plain": [
              "tensor([11, 12, 13])"
            ]
          },
          "metadata": {},
          "execution_count": 28
        }
      ]
    },
    {
      "cell_type": "code",
      "source": [
        "new_tensor - 10"
      ],
      "metadata": {
        "colab": {
          "base_uri": "https://localhost:8080/"
        },
        "id": "jZPvuF2rbXfb",
        "outputId": "f443c979-87c5-4fee-cc98-8b69570a2b1a"
      },
      "execution_count": null,
      "outputs": [
        {
          "output_type": "execute_result",
          "data": {
            "text/plain": [
              "tensor([-9, -8, -7])"
            ]
          },
          "metadata": {},
          "execution_count": 29
        }
      ]
    },
    {
      "cell_type": "code",
      "source": [
        "new_tensor * 100"
      ],
      "metadata": {
        "colab": {
          "base_uri": "https://localhost:8080/"
        },
        "id": "U35NCM6HbaxK",
        "outputId": "234c2836-9549-495e-dd99-db0daf41f138"
      },
      "execution_count": null,
      "outputs": [
        {
          "output_type": "execute_result",
          "data": {
            "text/plain": [
              "tensor([100, 200, 300])"
            ]
          },
          "metadata": {},
          "execution_count": 30
        }
      ]
    },
    {
      "cell_type": "code",
      "source": [
        "new_tensor / 1"
      ],
      "metadata": {
        "colab": {
          "base_uri": "https://localhost:8080/"
        },
        "id": "Ocsd11-MbdLQ",
        "outputId": "c045c8b3-3f5d-4dbe-bd9b-0792267cd2f4"
      },
      "execution_count": null,
      "outputs": [
        {
          "output_type": "execute_result",
          "data": {
            "text/plain": [
              "tensor([1., 2., 3.])"
            ]
          },
          "metadata": {},
          "execution_count": 31
        }
      ]
    },
    {
      "cell_type": "code",
      "source": [
        "new_tensor % 1"
      ],
      "metadata": {
        "colab": {
          "base_uri": "https://localhost:8080/"
        },
        "id": "du4NMkcbbf4H",
        "outputId": "a1f65868-3612-42a9-8742-427ed125b27a"
      },
      "execution_count": null,
      "outputs": [
        {
          "output_type": "execute_result",
          "data": {
            "text/plain": [
              "tensor([0, 0, 0])"
            ]
          },
          "metadata": {},
          "execution_count": 32
        }
      ]
    },
    {
      "cell_type": "code",
      "source": [
        "new_tensor // 1"
      ],
      "metadata": {
        "colab": {
          "base_uri": "https://localhost:8080/"
        },
        "id": "u37cQpGbbiyk",
        "outputId": "65c62340-c760-4ffc-eea1-163760927f03"
      },
      "execution_count": null,
      "outputs": [
        {
          "output_type": "execute_result",
          "data": {
            "text/plain": [
              "tensor([1, 2, 3])"
            ]
          },
          "metadata": {},
          "execution_count": 33
        }
      ]
    },
    {
      "cell_type": "code",
      "source": [
        "new_tensor2 = torch.tensor([4, 5 ,6])"
      ],
      "metadata": {
        "id": "U1_nAhh0cQET"
      },
      "execution_count": null,
      "outputs": []
    },
    {
      "cell_type": "code",
      "source": [
        "torch.matmul(new_tensor,new_tensor2)"
      ],
      "metadata": {
        "colab": {
          "base_uri": "https://localhost:8080/"
        },
        "id": "mIhEdkk5cwr0",
        "outputId": "a174c8ee-96da-4afb-cdda-ff458b105b17"
      },
      "execution_count": null,
      "outputs": [
        {
          "output_type": "execute_result",
          "data": {
            "text/plain": [
              "tensor(32)"
            ]
          },
          "metadata": {},
          "execution_count": 45
        }
      ]
    },
    {
      "cell_type": "markdown",
      "source": [
        "There are mainly two ways to perform multiplication in neural network and deep learning:\n",
        "\n",
        "\n",
        "1.   Elementwise Multiplication\n",
        "2.   Matrix Multiplication\n",
        "\n"
      ],
      "metadata": {
        "id": "d1p8OQemejr7"
      }
    },
    {
      "cell_type": "code",
      "source": [
        "new_tensor3 = torch.tensor([[1,2,3],\n",
        "                            [4,5,6]])\n",
        "new_tensor3"
      ],
      "metadata": {
        "colab": {
          "base_uri": "https://localhost:8080/"
        },
        "id": "sGspsIukc8Xl",
        "outputId": "41297fcd-b874-40bf-d43a-6ea309e4602c"
      },
      "execution_count": null,
      "outputs": [
        {
          "output_type": "execute_result",
          "data": {
            "text/plain": [
              "tensor([[1, 2, 3],\n",
              "        [4, 5, 6]])"
            ]
          },
          "metadata": {},
          "execution_count": 46
        }
      ]
    },
    {
      "cell_type": "code",
      "source": [
        "new_tensor4 = torch.tensor([[7,8],\n",
        "                            [9,10],\n",
        "                            [11,12]])\n",
        "new_tensor4"
      ],
      "metadata": {
        "colab": {
          "base_uri": "https://localhost:8080/"
        },
        "id": "HNW4ekS_gDVq",
        "outputId": "c87edb95-2de3-40e5-d026-9dedce38fa79"
      },
      "execution_count": null,
      "outputs": [
        {
          "output_type": "execute_result",
          "data": {
            "text/plain": [
              "tensor([[ 7,  8],\n",
              "        [ 9, 10],\n",
              "        [11, 12]])"
            ]
          },
          "metadata": {},
          "execution_count": 48
        }
      ]
    },
    {
      "cell_type": "code",
      "source": [
        "torch.matmul(new_tensor3,new_tensor4)"
      ],
      "metadata": {
        "colab": {
          "base_uri": "https://localhost:8080/"
        },
        "id": "25Go8EmGgMax",
        "outputId": "3265cbcb-7118-4e1a-96e3-a5dd3a4b9f81"
      },
      "execution_count": null,
      "outputs": [
        {
          "output_type": "execute_result",
          "data": {
            "text/plain": [
              "tensor([[ 58,  64],\n",
              "        [139, 154]])"
            ]
          },
          "metadata": {},
          "execution_count": 49
        }
      ]
    },
    {
      "cell_type": "markdown",
      "source": [
        "There are mainly two rules which should be rememberd:\n",
        "1. The **inner dimension** must match:\n",
        "\n",
        "  `(3,2) @ (3,2)` Wont work\n",
        "\n",
        "  `(2,3) @ (3,2)` will work\n",
        "\n",
        "  `(3,2) @ (2,3)`\n",
        " will work\n",
        "\n",
        "2. The resulting matrix has a shape of **outer dimension**.\n",
        "\n",
        "  `(2,3) @ (3,2) -> (2,2)`\n",
        "\n",
        "  `(3,2) @ (2,3) -> (3,3)`"
      ],
      "metadata": {
        "id": "9Ib9_kGWhHt2"
      }
    },
    {
      "cell_type": "markdown",
      "source": [
        "Tensor Shape errors - [Tutorial - 29](https://www.udemy.com/course/pytorch-for-deep-learning/learn/lecture/32656976#content)"
      ],
      "metadata": {
        "id": "RvKg5ux1mqZA"
      }
    },
    {
      "cell_type": "code",
      "source": [
        "Tensor_A = torch.tensor([[1,2,3],\n",
        "                         [4,5,6]])\n",
        "Tensor_A"
      ],
      "metadata": {
        "colab": {
          "base_uri": "https://localhost:8080/"
        },
        "id": "VcmvaxadgUZD",
        "outputId": "dcabff71-ae01-4731-e69a-eba208cb22b1"
      },
      "execution_count": null,
      "outputs": [
        {
          "output_type": "execute_result",
          "data": {
            "text/plain": [
              "tensor([[1, 2, 3],\n",
              "        [4, 5, 6]])"
            ]
          },
          "metadata": {},
          "execution_count": 50
        }
      ]
    },
    {
      "cell_type": "code",
      "source": [
        "Tensor_B = torch.tensor([[7,8,9],\n",
        "                         [10,11,12]])\n",
        "Tensor_B"
      ],
      "metadata": {
        "colab": {
          "base_uri": "https://localhost:8080/"
        },
        "id": "DxT8zkFYoB18",
        "outputId": "556ef93a-a8f3-438a-c1c0-8260195cc8a7"
      },
      "execution_count": null,
      "outputs": [
        {
          "output_type": "execute_result",
          "data": {
            "text/plain": [
              "tensor([[ 7,  8,  9],\n",
              "        [10, 11, 12]])"
            ]
          },
          "metadata": {},
          "execution_count": 51
        }
      ]
    },
    {
      "cell_type": "code",
      "source": [
        "torch.matmul(Tensor_A,Tensor_B)"
      ],
      "metadata": {
        "colab": {
          "base_uri": "https://localhost:8080/"
        },
        "id": "kFZHf2iJoPGs",
        "outputId": "be64e617-babf-43b0-e857-334f829a200e"
      },
      "execution_count": null,
      "outputs": [
        {
          "output_type": "execute_result",
          "data": {
            "text/plain": [
              "tensor([[ 50,  68],\n",
              "        [122, 167]])"
            ]
          },
          "metadata": {},
          "execution_count": 59
        }
      ]
    },
    {
      "cell_type": "code",
      "source": [
        "Tensor_A.shape"
      ],
      "metadata": {
        "colab": {
          "base_uri": "https://localhost:8080/"
        },
        "id": "1FIG-M5IoUxO",
        "outputId": "5659e8a1-dab6-4ed9-f0a8-5c1ce898b253"
      },
      "execution_count": null,
      "outputs": [
        {
          "output_type": "execute_result",
          "data": {
            "text/plain": [
              "torch.Size([2, 3])"
            ]
          },
          "metadata": {},
          "execution_count": 53
        }
      ]
    },
    {
      "cell_type": "code",
      "source": [
        "Tensor_B.shape"
      ],
      "metadata": {
        "colab": {
          "base_uri": "https://localhost:8080/"
        },
        "id": "Oo3qo0iHoet-",
        "outputId": "21519d68-f719-44e5-8cbd-8e87584a9e20"
      },
      "execution_count": null,
      "outputs": [
        {
          "output_type": "execute_result",
          "data": {
            "text/plain": [
              "torch.Size([2, 3])"
            ]
          },
          "metadata": {},
          "execution_count": 54
        }
      ]
    },
    {
      "cell_type": "markdown",
      "source": [
        "`Tensor_A and Tensor_B shapes cannot be multiplied` - To hand this kind of error, we can use **Transpose method**, which can be use with **T**."
      ],
      "metadata": {
        "id": "rjSdSR_ho4QZ"
      }
    },
    {
      "cell_type": "code",
      "source": [
        "Tensor_B = Tensor_B.T #Transpose method"
      ],
      "metadata": {
        "id": "472UOuj3oi-Q"
      },
      "execution_count": null,
      "outputs": []
    },
    {
      "cell_type": "code",
      "source": [
        "Tensor_B"
      ],
      "metadata": {
        "colab": {
          "base_uri": "https://localhost:8080/"
        },
        "id": "E6-kYfsJonGB",
        "outputId": "32e53170-c8c8-4260-ed10-6bd656757948"
      },
      "execution_count": null,
      "outputs": [
        {
          "output_type": "execute_result",
          "data": {
            "text/plain": [
              "tensor([[ 7, 10],\n",
              "        [ 8, 11],\n",
              "        [ 9, 12]])"
            ]
          },
          "metadata": {},
          "execution_count": 65
        }
      ]
    },
    {
      "cell_type": "code",
      "source": [
        "torch.matmul(Tensor_A,Tensor_B)"
      ],
      "metadata": {
        "colab": {
          "base_uri": "https://localhost:8080/"
        },
        "id": "sAXERE0hopFB",
        "outputId": "323ce448-87f8-43f9-b75e-83621d2b5cbf"
      },
      "execution_count": null,
      "outputs": [
        {
          "output_type": "execute_result",
          "data": {
            "text/plain": [
              "tensor([[ 50,  68],\n",
              "        [122, 167]])"
            ]
          },
          "metadata": {},
          "execution_count": 66
        }
      ]
    },
    {
      "cell_type": "markdown",
      "source": [
        "Finding the ***Min,Mean,Max,Sum*** (Tensor aggregation)\n",
        "\n",
        "---\n",
        "\n",
        "\n"
      ],
      "metadata": {
        "id": "5yhmix8XMuur"
      }
    },
    {
      "cell_type": "code",
      "source": [
        "import torch"
      ],
      "metadata": {
        "id": "I9nQZrk5NWIn"
      },
      "execution_count": null,
      "outputs": []
    },
    {
      "cell_type": "code",
      "source": [
        "random_tensor = torch.arange(0,100,10)"
      ],
      "metadata": {
        "id": "KVX527zAoy23"
      },
      "execution_count": null,
      "outputs": []
    },
    {
      "cell_type": "code",
      "source": [
        "random_tensor"
      ],
      "metadata": {
        "colab": {
          "base_uri": "https://localhost:8080/"
        },
        "id": "_qaVQ1InNHfb",
        "outputId": "770c8a0c-012e-46d5-d2b0-8528193a48e0"
      },
      "execution_count": null,
      "outputs": [
        {
          "output_type": "execute_result",
          "data": {
            "text/plain": [
              "tensor([ 0, 10, 20, 30, 40, 50, 60, 70, 80, 90])"
            ]
          },
          "metadata": {},
          "execution_count": 10
        }
      ]
    },
    {
      "cell_type": "code",
      "source": [
        "torch.min(random_tensor)\n",
        "random_tensor.min()"
      ],
      "metadata": {
        "colab": {
          "base_uri": "https://localhost:8080/"
        },
        "id": "D-p1T5R-Nfyn",
        "outputId": "e4213391-1271-48d7-fd07-62e640561e3f"
      },
      "execution_count": null,
      "outputs": [
        {
          "output_type": "execute_result",
          "data": {
            "text/plain": [
              "tensor(0)"
            ]
          },
          "metadata": {},
          "execution_count": 13
        }
      ]
    },
    {
      "cell_type": "code",
      "source": [
        "random_tensor.min()"
      ],
      "metadata": {
        "colab": {
          "base_uri": "https://localhost:8080/"
        },
        "id": "J87ZHtL6NnpX",
        "outputId": "d3696207-8be9-4e4b-e2dc-3a744fb017eb"
      },
      "execution_count": null,
      "outputs": [
        {
          "output_type": "execute_result",
          "data": {
            "text/plain": [
              "tensor(0)"
            ]
          },
          "metadata": {},
          "execution_count": 14
        }
      ]
    },
    {
      "cell_type": "code",
      "source": [
        "torch.mean(random_tensor.type(torch.float32))"
      ],
      "metadata": {
        "colab": {
          "base_uri": "https://localhost:8080/"
        },
        "id": "-Y9Mau_NOTLr",
        "outputId": "171a0852-d697-4613-96a4-35e3ddbe06f6"
      },
      "execution_count": null,
      "outputs": [
        {
          "output_type": "execute_result",
          "data": {
            "text/plain": [
              "tensor(45.)"
            ]
          },
          "metadata": {},
          "execution_count": 18
        }
      ]
    },
    {
      "cell_type": "code",
      "source": [
        "torch.max(random_tensor)"
      ],
      "metadata": {
        "colab": {
          "base_uri": "https://localhost:8080/"
        },
        "id": "tLms1YfBOdA0",
        "outputId": "d55ec636-0184-4175-a7ed-08ed4712106e"
      },
      "execution_count": null,
      "outputs": [
        {
          "output_type": "execute_result",
          "data": {
            "text/plain": [
              "tensor(90)"
            ]
          },
          "metadata": {},
          "execution_count": 19
        }
      ]
    },
    {
      "cell_type": "code",
      "source": [
        "torch.sum(random_tensor)"
      ],
      "metadata": {
        "colab": {
          "base_uri": "https://localhost:8080/"
        },
        "id": "dhzJh7DrO1Hn",
        "outputId": "34533dae-ca6f-49d2-b6ea-cb894fde197b"
      },
      "execution_count": null,
      "outputs": [
        {
          "output_type": "execute_result",
          "data": {
            "text/plain": [
              "tensor(450)"
            ]
          },
          "metadata": {},
          "execution_count": 20
        }
      ]
    },
    {
      "cell_type": "markdown",
      "source": [
        "Finding the **postional min and max**\n",
        "\n",
        "---\n",
        "\n",
        "\n"
      ],
      "metadata": {
        "id": "KUfpSBI6QqbZ"
      }
    },
    {
      "cell_type": "code",
      "source": [
        "random_tensor"
      ],
      "metadata": {
        "colab": {
          "base_uri": "https://localhost:8080/"
        },
        "id": "H4vqQs6IO37X",
        "outputId": "1bc4959c-db7a-4135-cfad-e20daf359b3d"
      },
      "execution_count": null,
      "outputs": [
        {
          "output_type": "execute_result",
          "data": {
            "text/plain": [
              "tensor([ 0, 10, 20, 30, 40, 50, 60, 70, 80, 90])"
            ]
          },
          "metadata": {},
          "execution_count": 21
        }
      ]
    },
    {
      "cell_type": "code",
      "source": [
        "torch.argmin(random_tensor)"
      ],
      "metadata": {
        "colab": {
          "base_uri": "https://localhost:8080/"
        },
        "id": "qW-gbzVuQ4Hk",
        "outputId": "7d70a7d6-ca85-44c7-8c63-25fd269b9984"
      },
      "execution_count": null,
      "outputs": [
        {
          "output_type": "execute_result",
          "data": {
            "text/plain": [
              "tensor(0)"
            ]
          },
          "metadata": {},
          "execution_count": 22
        }
      ]
    },
    {
      "cell_type": "code",
      "source": [
        "torch.argmax(random_tensor)"
      ],
      "metadata": {
        "colab": {
          "base_uri": "https://localhost:8080/"
        },
        "id": "wZMEtegGQ8J4",
        "outputId": "19a41282-229c-4949-c555-cae06f6c4291"
      },
      "execution_count": null,
      "outputs": [
        {
          "output_type": "execute_result",
          "data": {
            "text/plain": [
              "tensor(9)"
            ]
          },
          "metadata": {},
          "execution_count": 23
        }
      ]
    },
    {
      "cell_type": "markdown",
      "source": [
        "[Tutorial - 32](https://https://www.udemy.com/course/pytorch-for-deep-learning/learn/lecture/32656982#content)\n",
        "\n",
        "Reshaping, Stacking, squeezing and unsqueezing tensors\n",
        "\n",
        "```Reshaping :- Reshapes the input tensor to a defined shape```\n",
        "\n",
        "```View :- Returns the value of input tensor of certain shape but keep the same memory as the original tensor```\n",
        "\n",
        "```stacking :- Combine multiple tensors on top of each other (vstack) or side by side```\n",
        "\n",
        "\n",
        "```squeez :- Removes all 1 dimension from the tensor ```\n",
        "\n",
        "```Unsqueez :- Add 1 dimension to a target tensor```\n",
        "\n",
        "```permute :- Return a view of input with dimension permuted in certain way```\n"
      ],
      "metadata": {
        "id": "30iSZL96SRUr"
      }
    },
    {
      "cell_type": "code",
      "source": [
        "x = torch.arange(1.,10.)"
      ],
      "metadata": {
        "id": "dWnJuIsFRAU0"
      },
      "execution_count": null,
      "outputs": []
    },
    {
      "cell_type": "code",
      "source": [
        "x"
      ],
      "metadata": {
        "colab": {
          "base_uri": "https://localhost:8080/"
        },
        "id": "-MeizPklVDAT",
        "outputId": "1fdd1295-dbc9-40c8-87d9-3039f8a9ad00"
      },
      "execution_count": null,
      "outputs": [
        {
          "output_type": "execute_result",
          "data": {
            "text/plain": [
              "tensor([1., 2., 3., 4., 5., 6., 7., 8., 9.])"
            ]
          },
          "metadata": {},
          "execution_count": 25
        }
      ]
    },
    {
      "cell_type": "code",
      "source": [
        "x.shape"
      ],
      "metadata": {
        "colab": {
          "base_uri": "https://localhost:8080/"
        },
        "id": "LQe1p0iwVDtM",
        "outputId": "8e41df20-8502-499b-c4f1-9ec597860cf7"
      },
      "execution_count": null,
      "outputs": [
        {
          "output_type": "execute_result",
          "data": {
            "text/plain": [
              "torch.Size([9])"
            ]
          },
          "metadata": {},
          "execution_count": 27
        }
      ]
    },
    {
      "cell_type": "code",
      "source": [
        "#Reshape\n",
        "x_reshaped = x.reshape(1,9)\n",
        "x_reshaped,x_reshaped.shape"
      ],
      "metadata": {
        "colab": {
          "base_uri": "https://localhost:8080/"
        },
        "id": "2cy0IFAWVE8d",
        "outputId": "256a025b-b6ec-4b69-f48b-4809e0ee0510"
      },
      "execution_count": null,
      "outputs": [
        {
          "output_type": "execute_result",
          "data": {
            "text/plain": [
              "(tensor([[1., 2., 3., 4., 5., 6., 7., 8., 9.]]), torch.Size([1, 9]))"
            ]
          },
          "metadata": {},
          "execution_count": 31
        }
      ]
    },
    {
      "cell_type": "code",
      "source": [
        "#Change the View\n",
        "z = x.view(1,9)\n",
        "z,z.shape"
      ],
      "metadata": {
        "colab": {
          "base_uri": "https://localhost:8080/"
        },
        "id": "3gBgiGKmVoZq",
        "outputId": "8484e17e-cb3c-4d5e-dc9b-6645214d3dd9"
      },
      "execution_count": null,
      "outputs": [
        {
          "output_type": "execute_result",
          "data": {
            "text/plain": [
              "(tensor([[1., 2., 3., 4., 5., 6., 7., 8., 9.]]), torch.Size([1, 9]))"
            ]
          },
          "metadata": {},
          "execution_count": 32
        }
      ]
    },
    {
      "cell_type": "code",
      "source": [
        "#When we will change z, it will also change x, because both shares the same memory as the original input.\n",
        "z[:, 0] = 5\n",
        "z,x"
      ],
      "metadata": {
        "colab": {
          "base_uri": "https://localhost:8080/"
        },
        "id": "LGFRQdi6WSRL",
        "outputId": "93efa777-8461-4d9a-8306-e417fdb86f6f"
      },
      "execution_count": null,
      "outputs": [
        {
          "output_type": "execute_result",
          "data": {
            "text/plain": [
              "(tensor([[5., 2., 3., 4., 5., 6., 7., 8., 9.]]),\n",
              " tensor([5., 2., 3., 4., 5., 6., 7., 8., 9.]))"
            ]
          },
          "metadata": {},
          "execution_count": 33
        }
      ]
    },
    {
      "cell_type": "code",
      "source": [
        "#Squeeze method, removes all single dimension\n",
        "\n",
        "x_reshaped"
      ],
      "metadata": {
        "colab": {
          "base_uri": "https://localhost:8080/"
        },
        "id": "M0pQ4dSpWpdD",
        "outputId": "c00b605d-88a5-45e2-c0e3-bd4ddf053a14"
      },
      "execution_count": null,
      "outputs": [
        {
          "output_type": "execute_result",
          "data": {
            "text/plain": [
              "tensor([[5., 2., 3., 4., 5., 6., 7., 8., 9.]])"
            ]
          },
          "metadata": {},
          "execution_count": 34
        }
      ]
    },
    {
      "cell_type": "code",
      "source": [
        "x_reshaped.squeeze() , x_reshaped.squeeze().shape\n"
      ],
      "metadata": {
        "colab": {
          "base_uri": "https://localhost:8080/"
        },
        "id": "iAqp-IDxYKDE",
        "outputId": "e4548b0b-509e-41dc-a29b-7869abbf4713"
      },
      "execution_count": null,
      "outputs": [
        {
          "output_type": "execute_result",
          "data": {
            "text/plain": [
              "(tensor([5., 2., 3., 4., 5., 6., 7., 8., 9.]), torch.Size([9]))"
            ]
          },
          "metadata": {},
          "execution_count": 36
        }
      ]
    },
    {
      "cell_type": "code",
      "source": [
        "x_unsqueezed = x_reshaped.unsqueeze(dim=0)\n",
        "x_unsqueezed"
      ],
      "metadata": {
        "colab": {
          "base_uri": "https://localhost:8080/"
        },
        "id": "FBGh6jLoYQTQ",
        "outputId": "33255684-2592-49eb-9f0b-2296d9f36bd7"
      },
      "execution_count": null,
      "outputs": [
        {
          "output_type": "execute_result",
          "data": {
            "text/plain": [
              "tensor([[[5., 2., 3., 4., 5., 6., 7., 8., 9.]]])"
            ]
          },
          "metadata": {},
          "execution_count": 44
        }
      ]
    },
    {
      "cell_type": "markdown",
      "source": [
        "\n",
        "\n",
        "---\n",
        "\n",
        "\n",
        "\n",
        "---\n",
        "\n",
        "\n",
        "\n",
        "Tutorial : - 34\n",
        "\n",
        "[Selecting Data from the Tensors (indexing)](https://www.udemy.com/course/pytorch-for-deep-learning/learn/lecture/32668426#content)\n",
        "\n",
        "**Indexing in Pytorch is same as indexing in numpy**"
      ],
      "metadata": {
        "id": "j56VuGXKMPhV"
      }
    },
    {
      "cell_type": "code",
      "source": [
        "tensor_a = torch.arange(1,10).reshape(1,3,3)\n",
        "tensor_a"
      ],
      "metadata": {
        "id": "zE8sOWnjZGbs",
        "colab": {
          "base_uri": "https://localhost:8080/"
        },
        "outputId": "5eaa1f5a-ea31-41b5-b223-62582ad5fde9"
      },
      "execution_count": 3,
      "outputs": [
        {
          "output_type": "execute_result",
          "data": {
            "text/plain": [
              "tensor([[[1, 2, 3],\n",
              "         [4, 5, 6],\n",
              "         [7, 8, 9]]])"
            ]
          },
          "metadata": {},
          "execution_count": 3
        }
      ]
    },
    {
      "cell_type": "code",
      "source": [
        "#Lets index on the tensor\n",
        "tensor_a[0]"
      ],
      "metadata": {
        "colab": {
          "base_uri": "https://localhost:8080/"
        },
        "id": "Uok59rYIMgkK",
        "outputId": "b830d09f-75c4-4431-a446-e8547d233cf1"
      },
      "execution_count": 4,
      "outputs": [
        {
          "output_type": "execute_result",
          "data": {
            "text/plain": [
              "tensor([[1, 2, 3],\n",
              "        [4, 5, 6],\n",
              "        [7, 8, 9]])"
            ]
          },
          "metadata": {},
          "execution_count": 4
        }
      ]
    },
    {
      "cell_type": "code",
      "source": [
        "tensor_a[0][0]"
      ],
      "metadata": {
        "colab": {
          "base_uri": "https://localhost:8080/"
        },
        "id": "3RkpLqBPOW-o",
        "outputId": "fb271e52-f623-4745-b50a-ea0ff56a842e"
      },
      "execution_count": 6,
      "outputs": [
        {
          "output_type": "execute_result",
          "data": {
            "text/plain": [
              "tensor([1, 2, 3])"
            ]
          },
          "metadata": {},
          "execution_count": 6
        }
      ]
    },
    {
      "cell_type": "code",
      "source": [
        "tensor_a[0][0][0]"
      ],
      "metadata": {
        "colab": {
          "base_uri": "https://localhost:8080/"
        },
        "id": "91DjFq_5OarP",
        "outputId": "bcfc72d0-60d0-442d-8e12-c5741aff0d3e"
      },
      "execution_count": 7,
      "outputs": [
        {
          "output_type": "execute_result",
          "data": {
            "text/plain": [
              "tensor(1)"
            ]
          },
          "metadata": {},
          "execution_count": 7
        }
      ]
    },
    {
      "cell_type": "code",
      "source": [
        "tensor_a[0][1]"
      ],
      "metadata": {
        "colab": {
          "base_uri": "https://localhost:8080/"
        },
        "id": "YGGY-qzLOhqw",
        "outputId": "43dd7e91-17bb-4367-9097-cdaeb1c24750"
      },
      "execution_count": 13,
      "outputs": [
        {
          "output_type": "execute_result",
          "data": {
            "text/plain": [
              "tensor([4, 5, 6])"
            ]
          },
          "metadata": {},
          "execution_count": 13
        }
      ]
    },
    {
      "cell_type": "code",
      "source": [
        "tensor_a[0][1]"
      ],
      "metadata": {
        "colab": {
          "base_uri": "https://localhost:8080/"
        },
        "id": "XhI7H7elOjju",
        "outputId": "a2053e55-7ab3-400e-b86e-feeb44b6f020"
      },
      "execution_count": 14,
      "outputs": [
        {
          "output_type": "execute_result",
          "data": {
            "text/plain": [
              "tensor([4, 5, 6])"
            ]
          },
          "metadata": {},
          "execution_count": 14
        }
      ]
    },
    {
      "cell_type": "code",
      "source": [
        "#You can also use \":\"  to select all target dimension"
      ],
      "metadata": {
        "id": "xq39tofCOx7I"
      },
      "execution_count": 16,
      "outputs": []
    },
    {
      "cell_type": "code",
      "source": [
        "tensor_a[:, 0]"
      ],
      "metadata": {
        "colab": {
          "base_uri": "https://localhost:8080/"
        },
        "id": "5YGDY7XpPSMD",
        "outputId": "dcec4f09-cffd-4e43-cbbf-f320f53a5038"
      },
      "execution_count": 22,
      "outputs": [
        {
          "output_type": "execute_result",
          "data": {
            "text/plain": [
              "tensor([[1, 2, 3]])"
            ]
          },
          "metadata": {},
          "execution_count": 22
        }
      ]
    },
    {
      "cell_type": "code",
      "source": [
        "tensor_a[:, 1:2, 1:2]"
      ],
      "metadata": {
        "colab": {
          "base_uri": "https://localhost:8080/"
        },
        "id": "Vgu0038WP_1u",
        "outputId": "31d3c3e5-53e0-40df-faf2-3f3cbe3f96bb"
      },
      "execution_count": 43,
      "outputs": [
        {
          "output_type": "execute_result",
          "data": {
            "text/plain": [
              "tensor([[[5]]])"
            ]
          },
          "metadata": {},
          "execution_count": 43
        }
      ]
    },
    {
      "cell_type": "markdown",
      "source": [
        "\n",
        "\n",
        "---\n",
        "\n",
        "\n",
        "\n",
        "---\n",
        "\n",
        "\n",
        "\n",
        "Pytorch Tensors and NumPy\n",
        "\n",
        " [Tutorial - 35](https://www.udemy.com/course/pytorch-for-deep-learning/learn/lecture/32668444#conten\n",
        " )"
      ],
      "metadata": {
        "id": "OLEmzYcbSPGG"
      }
    },
    {
      "cell_type": "code",
      "source": [
        "import numpy as np"
      ],
      "metadata": {
        "id": "CUGg0KguQPhV"
      },
      "execution_count": 45,
      "outputs": []
    },
    {
      "cell_type": "code",
      "source": [
        "array = np.arange(1.0,8.0)"
      ],
      "metadata": {
        "id": "4PibDN2CTBan"
      },
      "execution_count": 46,
      "outputs": []
    },
    {
      "cell_type": "code",
      "source": [
        "tensor = torch.from_numpy(array)\n",
        "array, tensor"
      ],
      "metadata": {
        "colab": {
          "base_uri": "https://localhost:8080/"
        },
        "id": "IdTMV7B0TRgA",
        "outputId": "a61394c5-493b-40dd-c5eb-b993096450fe"
      },
      "execution_count": 48,
      "outputs": [
        {
          "output_type": "execute_result",
          "data": {
            "text/plain": [
              "(array([1., 2., 3., 4., 5., 6., 7.]),\n",
              " tensor([1., 2., 3., 4., 5., 6., 7.], dtype=torch.float64))"
            ]
          },
          "metadata": {},
          "execution_count": 48
        }
      ]
    },
    {
      "cell_type": "markdown",
      "source": [
        "Note ⚓ : When you convert array from numpy to pytorch tensors, the type of pytorch tensors will be the same as numpy array. So you have to change after converting from the array to the tensors."
      ],
      "metadata": {
        "id": "zmE6nIE_T2-v"
      }
    },
    {
      "cell_type": "code",
      "source": [
        "new_numpy = tensor_a.numpy()"
      ],
      "metadata": {
        "id": "R75qOdd4TZ9d"
      },
      "execution_count": 49,
      "outputs": []
    },
    {
      "cell_type": "code",
      "source": [
        "new_numpy"
      ],
      "metadata": {
        "colab": {
          "base_uri": "https://localhost:8080/"
        },
        "id": "TJ4mnpuiUtAL",
        "outputId": "77838c08-2709-4b35-eeaf-9f3e0300f28b"
      },
      "execution_count": 50,
      "outputs": [
        {
          "output_type": "execute_result",
          "data": {
            "text/plain": [
              "array([[[1, 2, 3],\n",
              "        [4, 5, 6],\n",
              "        [7, 8, 9]]])"
            ]
          },
          "metadata": {},
          "execution_count": 50
        }
      ]
    },
    {
      "cell_type": "markdown",
      "source": [
        "*Reproducbility (Trying To take random out of random)*\n",
        "\n",
        "In short How neural network learns?\n",
        "\n",
        " `Starts with random numbers -> tensor Operations -> Update random numbers to try and make them better representation of data -> again -> again`\n",
        "\n",
        " To reduce randomness in neural nertwork or PyTorch, we can use concept  ***random seed***"
      ],
      "metadata": {
        "id": "W3_ZXkCalHWR"
      }
    },
    {
      "cell_type": "code",
      "source": [
        "RANDOM_SEED = 100\n",
        "torch.manual_seed(RANDOM_SEED)\n",
        "random_tensor_a = torch.rand(3,4)\n",
        "torch.manual_seed(RANDOM_SEED)\n",
        "random_tensor_b = torch.rand(3,4)\n",
        "\n",
        "random_tensor_a,random_tensor_b\n"
      ],
      "metadata": {
        "colab": {
          "base_uri": "https://localhost:8080/"
        },
        "id": "LJbn6L-nUuY3",
        "outputId": "652aca9c-9714-4098-d39d-245bc872bf41"
      },
      "execution_count": 58,
      "outputs": [
        {
          "output_type": "execute_result",
          "data": {
            "text/plain": [
              "(tensor([[0.1117, 0.8158, 0.2626, 0.4839],\n",
              "         [0.6765, 0.7539, 0.2627, 0.0428],\n",
              "         [0.2080, 0.1180, 0.1217, 0.7356]]),\n",
              " tensor([[0.1117, 0.8158, 0.2626, 0.4839],\n",
              "         [0.6765, 0.7539, 0.2627, 0.0428],\n",
              "         [0.2080, 0.1180, 0.1217, 0.7356]]))"
            ]
          },
          "metadata": {},
          "execution_count": 58
        }
      ]
    },
    {
      "cell_type": "code",
      "source": [
        "random_tensor_a == random_tensor_b"
      ],
      "metadata": {
        "colab": {
          "base_uri": "https://localhost:8080/"
        },
        "id": "O1CsYDWRoTIq",
        "outputId": "96807917-2fd7-4ded-8ffb-24ba5b6b7ddc"
      },
      "execution_count": 59,
      "outputs": [
        {
          "output_type": "execute_result",
          "data": {
            "text/plain": [
              "tensor([[True, True, True, True],\n",
              "        [True, True, True, True],\n",
              "        [True, True, True, True]])"
            ]
          },
          "metadata": {},
          "execution_count": 59
        }
      ]
    },
    {
      "cell_type": "code",
      "source": [
        "!nvidia-smi"
      ],
      "metadata": {
        "colab": {
          "base_uri": "https://localhost:8080/"
        },
        "id": "0rjLRgTuodBy",
        "outputId": "56c3c842-9fdf-4240-e9df-04507af1823d"
      },
      "execution_count": 2,
      "outputs": [
        {
          "output_type": "stream",
          "name": "stdout",
          "text": [
            "Tue Mar 19 07:45:58 2024       \n",
            "+---------------------------------------------------------------------------------------+\n",
            "| NVIDIA-SMI 535.104.05             Driver Version: 535.104.05   CUDA Version: 12.2     |\n",
            "|-----------------------------------------+----------------------+----------------------+\n",
            "| GPU  Name                 Persistence-M | Bus-Id        Disp.A | Volatile Uncorr. ECC |\n",
            "| Fan  Temp   Perf          Pwr:Usage/Cap |         Memory-Usage | GPU-Util  Compute M. |\n",
            "|                                         |                      |               MIG M. |\n",
            "|=========================================+======================+======================|\n",
            "|   0  Tesla T4                       Off | 00000000:00:04.0 Off |                    0 |\n",
            "| N/A   40C    P8              11W /  70W |      0MiB / 15360MiB |      0%      Default |\n",
            "|                                         |                      |                  N/A |\n",
            "+-----------------------------------------+----------------------+----------------------+\n",
            "                                                                                         \n",
            "+---------------------------------------------------------------------------------------+\n",
            "| Processes:                                                                            |\n",
            "|  GPU   GI   CI        PID   Type   Process name                            GPU Memory |\n",
            "|        ID   ID                                                             Usage      |\n",
            "|=======================================================================================|\n",
            "|  No running processes found                                                           |\n",
            "+---------------------------------------------------------------------------------------+\n"
          ]
        }
      ]
    },
    {
      "cell_type": "code",
      "source": [],
      "metadata": {
        "id": "s6fHxK-5rDkl"
      },
      "execution_count": null,
      "outputs": []
    }
  ]
}