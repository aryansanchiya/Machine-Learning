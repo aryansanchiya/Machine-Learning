{
  "nbformat": 4,
  "nbformat_minor": 0,
  "metadata": {
    "colab": {
      "provenance": [],
      "authorship_tag": "ABX9TyPbs93EFcC3KGC4xFbEF00W",
      "include_colab_link": true
    },
    "kernelspec": {
      "name": "python3",
      "display_name": "Python 3"
    },
    "language_info": {
      "name": "python"
    }
  },
  "cells": [
    {
      "cell_type": "markdown",
      "metadata": {
        "id": "view-in-github",
        "colab_type": "text"
      },
      "source": [
        "<a href=\"https://colab.research.google.com/github/aryansanchiya/Machine-Learning/blob/main/Tensor_Datatypes_and_operations.ipynb\" target=\"_parent\"><img src=\"https://colab.research.google.com/assets/colab-badge.svg\" alt=\"Open In Colab\"/></a>"
      ]
    },
    {
      "cell_type": "code",
      "execution_count": 1,
      "metadata": {
        "id": "3T-jAdWvReKI"
      },
      "outputs": [],
      "source": [
        "import torch"
      ]
    },
    {
      "cell_type": "code",
      "source": [
        "#https://www.udemy.com/course/pytorch-for-deep-learning/learn/lecture/32656962#overview"
      ],
      "metadata": {
        "id": "rIjtIvjmRmlg"
      },
      "execution_count": 2,
      "outputs": []
    },
    {
      "cell_type": "code",
      "source": [
        "float_32_tensor = torch.tensor([3.0, 6.0, 9.0],\n",
        "                               dtype = None)\n",
        "float_32_tensor"
      ],
      "metadata": {
        "colab": {
          "base_uri": "https://localhost:8080/"
        },
        "id": "Yr27NA9QRwSr",
        "outputId": "ab694f06-3f7d-4f71-95c4-4473c64ccc7c"
      },
      "execution_count": 3,
      "outputs": [
        {
          "output_type": "execute_result",
          "data": {
            "text/plain": [
              "tensor([3., 6., 9.])"
            ]
          },
          "metadata": {},
          "execution_count": 3
        }
      ]
    },
    {
      "cell_type": "code",
      "source": [
        "type(float_32_tensor)"
      ],
      "metadata": {
        "colab": {
          "base_uri": "https://localhost:8080/"
        },
        "id": "5XkV_IDBSP6j",
        "outputId": "0d06850f-5a61-4f43-99c5-f973f975abce"
      },
      "execution_count": 4,
      "outputs": [
        {
          "output_type": "execute_result",
          "data": {
            "text/plain": [
              "torch.Tensor"
            ]
          },
          "metadata": {},
          "execution_count": 4
        }
      ]
    },
    {
      "cell_type": "code",
      "source": [
        "float_32_tensor.dtype"
      ],
      "metadata": {
        "colab": {
          "base_uri": "https://localhost:8080/"
        },
        "id": "HaYCVD6oST30",
        "outputId": "995fb7fe-b8eb-46c9-bcf3-24816de6c125"
      },
      "execution_count": 5,
      "outputs": [
        {
          "output_type": "execute_result",
          "data": {
            "text/plain": [
              "torch.float32"
            ]
          },
          "metadata": {},
          "execution_count": 5
        }
      ]
    },
    {
      "cell_type": "code",
      "source": [
        "float_16_tensor = torch.tensor([3.0, 6.0, 9.0],\n",
        "                               dtype = torch.float16,\n",
        "                               device=None,\n",
        "                               requires_grad=False)\n",
        "float_16_tensor.dtype"
      ],
      "metadata": {
        "colab": {
          "base_uri": "https://localhost:8080/"
        },
        "id": "lDQz5tYcSdmg",
        "outputId": "15295549-78dc-4419-8035-7791e7d3233a"
      },
      "execution_count": 10,
      "outputs": [
        {
          "output_type": "execute_result",
          "data": {
            "text/plain": [
              "torch.float16"
            ]
          },
          "metadata": {},
          "execution_count": 10
        }
      ]
    },
    {
      "cell_type": "code",
      "source": [
        "#\"dtype\" arguement is used for create diffrent kind of datatypes."
      ],
      "metadata": {
        "id": "9LF3MIcqS05x"
      },
      "execution_count": 8,
      "outputs": []
    },
    {
      "cell_type": "code",
      "source": [
        "#How to change the datatype ?"
      ],
      "metadata": {
        "id": "DQDo26BTTEAH"
      },
      "execution_count": 11,
      "outputs": []
    },
    {
      "cell_type": "code",
      "source": [
        "new_float_64 = float_32_tensor.type(torch.float64)"
      ],
      "metadata": {
        "id": "oDXHjaWiUzhr"
      },
      "execution_count": 15,
      "outputs": []
    },
    {
      "cell_type": "code",
      "source": [
        "new_float_64.dtype"
      ],
      "metadata": {
        "colab": {
          "base_uri": "https://localhost:8080/"
        },
        "id": "SYjcNWGRVFJX",
        "outputId": "1640c541-18bb-4e5b-d441-e7ccbb64f600"
      },
      "execution_count": 16,
      "outputs": [
        {
          "output_type": "execute_result",
          "data": {
            "text/plain": [
              "torch.float64"
            ]
          },
          "metadata": {},
          "execution_count": 16
        }
      ]
    },
    {
      "cell_type": "markdown",
      "source": [
        "Tutorial - 24"
      ],
      "metadata": {
        "id": "6sFgwEAvYlNY"
      }
    },
    {
      "cell_type": "code",
      "source": [
        "#https://www.udemy.com/course/pytorch-for-deep-learning/learn/lecture/32656964#questions"
      ],
      "metadata": {
        "id": "z6pDIYBMYhbP"
      },
      "execution_count": 27,
      "outputs": []
    },
    {
      "cell_type": "code",
      "source": [
        "#Operations on diffrent datatypes"
      ],
      "metadata": {
        "id": "jIU_sS01VKOp"
      },
      "execution_count": 17,
      "outputs": []
    },
    {
      "cell_type": "code",
      "source": [
        "int_32_tensor = torch.tensor([3, 4, 5],\n",
        "                             dtype = torch.int32)\n",
        "float_32_tensor"
      ],
      "metadata": {
        "colab": {
          "base_uri": "https://localhost:8080/"
        },
        "id": "8SX3zI2xVtSw",
        "outputId": "9b75b6ec-34ec-4193-c94a-eb2f586d4ae0"
      },
      "execution_count": 20,
      "outputs": [
        {
          "output_type": "execute_result",
          "data": {
            "text/plain": [
              "tensor([3., 6., 9.])"
            ]
          },
          "metadata": {},
          "execution_count": 20
        }
      ]
    },
    {
      "cell_type": "code",
      "source": [
        "float_32_tensor * int_32_tensor"
      ],
      "metadata": {
        "colab": {
          "base_uri": "https://localhost:8080/"
        },
        "id": "mXcFYfycV7de",
        "outputId": "89546ee2-53af-47cc-cc83-aff822c6a61f"
      },
      "execution_count": 19,
      "outputs": [
        {
          "output_type": "execute_result",
          "data": {
            "text/plain": [
              "tensor([ 9., 24., 45.])"
            ]
          },
          "metadata": {},
          "execution_count": 19
        }
      ]
    },
    {
      "cell_type": "code",
      "source": [
        "#Conclusion is that it works!"
      ],
      "metadata": {
        "id": "mKxXsq44WGDk"
      },
      "execution_count": 21,
      "outputs": []
    },
    {
      "cell_type": "code",
      "source": [
        "#\"tensor.shape\" is used to know shape of the tensors\n",
        "#\"tensor.dtype\" is used to know datatype of the tensors\n",
        "#'tensor.device\" is used to know the device of the tensors (cpu/gpu)"
      ],
      "metadata": {
        "id": "RHyFNtq9Wmpa"
      },
      "execution_count": 22,
      "outputs": []
    },
    {
      "cell_type": "code",
      "source": [
        "some_tensor = torch.rand(3,4)"
      ],
      "metadata": {
        "id": "Oj0bLp-VXyDY"
      },
      "execution_count": 23,
      "outputs": []
    },
    {
      "cell_type": "code",
      "source": [
        "some_tensor"
      ],
      "metadata": {
        "colab": {
          "base_uri": "https://localhost:8080/"
        },
        "id": "agPU2Jf-X4Yr",
        "outputId": "16ea1dc5-2eac-4d28-9c54-929d4ee0df41"
      },
      "execution_count": 24,
      "outputs": [
        {
          "output_type": "execute_result",
          "data": {
            "text/plain": [
              "tensor([[0.1478, 0.9802, 0.2238, 0.8624],\n",
              "        [0.3000, 0.1273, 0.6083, 0.3923],\n",
              "        [0.7102, 0.6185, 0.9551, 0.5857]])"
            ]
          },
          "metadata": {},
          "execution_count": 24
        }
      ]
    },
    {
      "cell_type": "code",
      "source": [
        "print(\"Datatype:\", some_tensor.dtype)\n",
        "print(\"Shape:\",some_tensor.shape)\n",
        "print(\"Device:\",some_tensor.device)"
      ],
      "metadata": {
        "colab": {
          "base_uri": "https://localhost:8080/"
        },
        "id": "rHo2jKX_X6SC",
        "outputId": "f62c90be-b6eb-4f83-d9ee-ec2ea33a87de"
      },
      "execution_count": 26,
      "outputs": [
        {
          "output_type": "stream",
          "name": "stdout",
          "text": [
            "Datatype: torch.float32\n",
            "Shape: torch.Size([3, 4])\n",
            "Device: cpu\n"
          ]
        }
      ]
    },
    {
      "cell_type": "markdown",
      "source": [
        "## **`Manipulating Tensors`**\n",
        "[Tutorial - 26](https://www.udemy.com/course/pytorch-for-deep-learning/learn/lecture/32656966#content)"
      ],
      "metadata": {
        "id": "W4yEwipeZNVw"
      }
    },
    {
      "cell_type": "markdown",
      "source": [
        "***`Tensor Operation:`***\n",
        "\n",
        "\n",
        "\n",
        "---\n",
        "\n",
        "\n",
        "1.   Addition\n",
        "2.   Multiplication (Element Wise)\n",
        "3.   Division\n",
        "4.   Matrix Multiplication\n",
        "\n",
        "\n",
        "\n"
      ],
      "metadata": {
        "id": "2zYKhj_dZ3Yv"
      }
    },
    {
      "cell_type": "code",
      "source": [
        "new_tensor = torch.tensor([1, 2, 3])\n",
        "new_tensor + 10"
      ],
      "metadata": {
        "colab": {
          "base_uri": "https://localhost:8080/"
        },
        "id": "76wmLSfOYG2b",
        "outputId": "eeeb85e0-f478-4983-907f-51a84b52b335"
      },
      "execution_count": 28,
      "outputs": [
        {
          "output_type": "execute_result",
          "data": {
            "text/plain": [
              "tensor([11, 12, 13])"
            ]
          },
          "metadata": {},
          "execution_count": 28
        }
      ]
    },
    {
      "cell_type": "code",
      "source": [
        "new_tensor - 10"
      ],
      "metadata": {
        "colab": {
          "base_uri": "https://localhost:8080/"
        },
        "id": "jZPvuF2rbXfb",
        "outputId": "f443c979-87c5-4fee-cc98-8b69570a2b1a"
      },
      "execution_count": 29,
      "outputs": [
        {
          "output_type": "execute_result",
          "data": {
            "text/plain": [
              "tensor([-9, -8, -7])"
            ]
          },
          "metadata": {},
          "execution_count": 29
        }
      ]
    },
    {
      "cell_type": "code",
      "source": [
        "new_tensor * 100"
      ],
      "metadata": {
        "colab": {
          "base_uri": "https://localhost:8080/"
        },
        "id": "U35NCM6HbaxK",
        "outputId": "234c2836-9549-495e-dd99-db0daf41f138"
      },
      "execution_count": 30,
      "outputs": [
        {
          "output_type": "execute_result",
          "data": {
            "text/plain": [
              "tensor([100, 200, 300])"
            ]
          },
          "metadata": {},
          "execution_count": 30
        }
      ]
    },
    {
      "cell_type": "code",
      "source": [
        "new_tensor / 1"
      ],
      "metadata": {
        "colab": {
          "base_uri": "https://localhost:8080/"
        },
        "id": "Ocsd11-MbdLQ",
        "outputId": "c045c8b3-3f5d-4dbe-bd9b-0792267cd2f4"
      },
      "execution_count": 31,
      "outputs": [
        {
          "output_type": "execute_result",
          "data": {
            "text/plain": [
              "tensor([1., 2., 3.])"
            ]
          },
          "metadata": {},
          "execution_count": 31
        }
      ]
    },
    {
      "cell_type": "code",
      "source": [
        "new_tensor % 1"
      ],
      "metadata": {
        "colab": {
          "base_uri": "https://localhost:8080/"
        },
        "id": "du4NMkcbbf4H",
        "outputId": "a1f65868-3612-42a9-8742-427ed125b27a"
      },
      "execution_count": 32,
      "outputs": [
        {
          "output_type": "execute_result",
          "data": {
            "text/plain": [
              "tensor([0, 0, 0])"
            ]
          },
          "metadata": {},
          "execution_count": 32
        }
      ]
    },
    {
      "cell_type": "code",
      "source": [
        "new_tensor // 1"
      ],
      "metadata": {
        "colab": {
          "base_uri": "https://localhost:8080/"
        },
        "id": "u37cQpGbbiyk",
        "outputId": "65c62340-c760-4ffc-eea1-163760927f03"
      },
      "execution_count": 33,
      "outputs": [
        {
          "output_type": "execute_result",
          "data": {
            "text/plain": [
              "tensor([1, 2, 3])"
            ]
          },
          "metadata": {},
          "execution_count": 33
        }
      ]
    },
    {
      "cell_type": "code",
      "source": [
        "new_tensor2 = torch.tensor([4, 5 ,6])"
      ],
      "metadata": {
        "id": "U1_nAhh0cQET"
      },
      "execution_count": 44,
      "outputs": []
    },
    {
      "cell_type": "code",
      "source": [
        "torch.matmul(new_tensor,new_tensor2)"
      ],
      "metadata": {
        "colab": {
          "base_uri": "https://localhost:8080/"
        },
        "id": "mIhEdkk5cwr0",
        "outputId": "a174c8ee-96da-4afb-cdda-ff458b105b17"
      },
      "execution_count": 45,
      "outputs": [
        {
          "output_type": "execute_result",
          "data": {
            "text/plain": [
              "tensor(32)"
            ]
          },
          "metadata": {},
          "execution_count": 45
        }
      ]
    },
    {
      "cell_type": "markdown",
      "source": [
        "There are mainly two ways to perform multiplication in neural network and deep learning:\n",
        "\n",
        "\n",
        "1.   Elementwise Multiplication\n",
        "2.   Matrix Multiplication\n",
        "\n"
      ],
      "metadata": {
        "id": "d1p8OQemejr7"
      }
    },
    {
      "cell_type": "code",
      "source": [
        "new_tensor3 = torch.tensor([[1,2,3],\n",
        "                            [4,5,6]])\n",
        "new_tensor3"
      ],
      "metadata": {
        "colab": {
          "base_uri": "https://localhost:8080/"
        },
        "id": "sGspsIukc8Xl",
        "outputId": "41297fcd-b874-40bf-d43a-6ea309e4602c"
      },
      "execution_count": 46,
      "outputs": [
        {
          "output_type": "execute_result",
          "data": {
            "text/plain": [
              "tensor([[1, 2, 3],\n",
              "        [4, 5, 6]])"
            ]
          },
          "metadata": {},
          "execution_count": 46
        }
      ]
    },
    {
      "cell_type": "code",
      "source": [
        "new_tensor4 = torch.tensor([[7,8],\n",
        "                            [9,10],\n",
        "                            [11,12]])\n",
        "new_tensor4"
      ],
      "metadata": {
        "colab": {
          "base_uri": "https://localhost:8080/"
        },
        "id": "HNW4ekS_gDVq",
        "outputId": "c87edb95-2de3-40e5-d026-9dedce38fa79"
      },
      "execution_count": 48,
      "outputs": [
        {
          "output_type": "execute_result",
          "data": {
            "text/plain": [
              "tensor([[ 7,  8],\n",
              "        [ 9, 10],\n",
              "        [11, 12]])"
            ]
          },
          "metadata": {},
          "execution_count": 48
        }
      ]
    },
    {
      "cell_type": "code",
      "source": [
        "torch.matmul(new_tensor3,new_tensor4)"
      ],
      "metadata": {
        "colab": {
          "base_uri": "https://localhost:8080/"
        },
        "id": "25Go8EmGgMax",
        "outputId": "3265cbcb-7118-4e1a-96e3-a5dd3a4b9f81"
      },
      "execution_count": 49,
      "outputs": [
        {
          "output_type": "execute_result",
          "data": {
            "text/plain": [
              "tensor([[ 58,  64],\n",
              "        [139, 154]])"
            ]
          },
          "metadata": {},
          "execution_count": 49
        }
      ]
    },
    {
      "cell_type": "markdown",
      "source": [
        "There are mainly two rules which should be rememberd:\n",
        "1. The **inner dimension** must match:\n",
        "\n",
        "  `(3,2) @ (3,2)` Wont work\n",
        "\n",
        "  `(2,3) @ (3,2)` will work\n",
        "\n",
        "  `(3,2) @ (2,3)`\n",
        " will work\n",
        "\n",
        "2. The resulting matrix has a shape of **outer dimension**.\n",
        "\n",
        "  `(2,3) @ (3,2) -> (2,2)`\n",
        "\n",
        "  `(3,2) @ (2,3) -> (3,3)`"
      ],
      "metadata": {
        "id": "9Ib9_kGWhHt2"
      }
    },
    {
      "cell_type": "markdown",
      "source": [
        "Tensor Shape errors - [Tutorial - 29](https://www.udemy.com/course/pytorch-for-deep-learning/learn/lecture/32656976#content)"
      ],
      "metadata": {
        "id": "RvKg5ux1mqZA"
      }
    },
    {
      "cell_type": "code",
      "source": [
        "Tensor_A = torch.tensor([[1,2,3],\n",
        "                         [4,5,6]])\n",
        "Tensor_A"
      ],
      "metadata": {
        "colab": {
          "base_uri": "https://localhost:8080/"
        },
        "id": "VcmvaxadgUZD",
        "outputId": "dcabff71-ae01-4731-e69a-eba208cb22b1"
      },
      "execution_count": 50,
      "outputs": [
        {
          "output_type": "execute_result",
          "data": {
            "text/plain": [
              "tensor([[1, 2, 3],\n",
              "        [4, 5, 6]])"
            ]
          },
          "metadata": {},
          "execution_count": 50
        }
      ]
    },
    {
      "cell_type": "code",
      "source": [
        "Tensor_B = torch.tensor([[7,8,9],\n",
        "                         [10,11,12]])\n",
        "Tensor_B"
      ],
      "metadata": {
        "colab": {
          "base_uri": "https://localhost:8080/"
        },
        "id": "DxT8zkFYoB18",
        "outputId": "556ef93a-a8f3-438a-c1c0-8260195cc8a7"
      },
      "execution_count": 51,
      "outputs": [
        {
          "output_type": "execute_result",
          "data": {
            "text/plain": [
              "tensor([[ 7,  8,  9],\n",
              "        [10, 11, 12]])"
            ]
          },
          "metadata": {},
          "execution_count": 51
        }
      ]
    },
    {
      "cell_type": "code",
      "source": [
        "torch.matmul(Tensor_A,Tensor_B)"
      ],
      "metadata": {
        "colab": {
          "base_uri": "https://localhost:8080/"
        },
        "id": "kFZHf2iJoPGs",
        "outputId": "be64e617-babf-43b0-e857-334f829a200e"
      },
      "execution_count": 59,
      "outputs": [
        {
          "output_type": "execute_result",
          "data": {
            "text/plain": [
              "tensor([[ 50,  68],\n",
              "        [122, 167]])"
            ]
          },
          "metadata": {},
          "execution_count": 59
        }
      ]
    },
    {
      "cell_type": "code",
      "source": [
        "Tensor_A.shape"
      ],
      "metadata": {
        "colab": {
          "base_uri": "https://localhost:8080/"
        },
        "id": "1FIG-M5IoUxO",
        "outputId": "5659e8a1-dab6-4ed9-f0a8-5c1ce898b253"
      },
      "execution_count": 53,
      "outputs": [
        {
          "output_type": "execute_result",
          "data": {
            "text/plain": [
              "torch.Size([2, 3])"
            ]
          },
          "metadata": {},
          "execution_count": 53
        }
      ]
    },
    {
      "cell_type": "code",
      "source": [
        "Tensor_B.shape"
      ],
      "metadata": {
        "colab": {
          "base_uri": "https://localhost:8080/"
        },
        "id": "Oo3qo0iHoet-",
        "outputId": "21519d68-f719-44e5-8cbd-8e87584a9e20"
      },
      "execution_count": 54,
      "outputs": [
        {
          "output_type": "execute_result",
          "data": {
            "text/plain": [
              "torch.Size([2, 3])"
            ]
          },
          "metadata": {},
          "execution_count": 54
        }
      ]
    },
    {
      "cell_type": "markdown",
      "source": [
        "`Tensor_A and Tensor_B shapes cannot be multiplied` - To hand this kind of error, we can use **Transpose method**, which can be use with **T**."
      ],
      "metadata": {
        "id": "rjSdSR_ho4QZ"
      }
    },
    {
      "cell_type": "code",
      "source": [
        "Tensor_B = Tensor_B.T #Transpose method"
      ],
      "metadata": {
        "id": "472UOuj3oi-Q"
      },
      "execution_count": 64,
      "outputs": []
    },
    {
      "cell_type": "code",
      "source": [
        "Tensor_B"
      ],
      "metadata": {
        "colab": {
          "base_uri": "https://localhost:8080/"
        },
        "id": "E6-kYfsJonGB",
        "outputId": "32e53170-c8c8-4260-ed10-6bd656757948"
      },
      "execution_count": 65,
      "outputs": [
        {
          "output_type": "execute_result",
          "data": {
            "text/plain": [
              "tensor([[ 7, 10],\n",
              "        [ 8, 11],\n",
              "        [ 9, 12]])"
            ]
          },
          "metadata": {},
          "execution_count": 65
        }
      ]
    },
    {
      "cell_type": "code",
      "source": [
        "torch.matmul(Tensor_A,Tensor_B)"
      ],
      "metadata": {
        "colab": {
          "base_uri": "https://localhost:8080/"
        },
        "id": "sAXERE0hopFB",
        "outputId": "323ce448-87f8-43f9-b75e-83621d2b5cbf"
      },
      "execution_count": 66,
      "outputs": [
        {
          "output_type": "execute_result",
          "data": {
            "text/plain": [
              "tensor([[ 50,  68],\n",
              "        [122, 167]])"
            ]
          },
          "metadata": {},
          "execution_count": 66
        }
      ]
    },
    {
      "cell_type": "code",
      "source": [],
      "metadata": {
        "id": "KVX527zAoy23"
      },
      "execution_count": null,
      "outputs": []
    }
  ]
}