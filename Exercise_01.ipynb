{
  "nbformat": 4,
  "nbformat_minor": 0,
  "metadata": {
    "colab": {
      "provenance": [],
      "gpuType": "T4",
      "authorship_tag": "ABX9TyN1/eI7a8r5DiiA0wz063hq",
      "include_colab_link": true
    },
    "kernelspec": {
      "name": "python3",
      "display_name": "Python 3"
    },
    "language_info": {
      "name": "python"
    },
    "accelerator": "GPU"
  },
  "cells": [
    {
      "cell_type": "markdown",
      "metadata": {
        "id": "view-in-github",
        "colab_type": "text"
      },
      "source": [
        "<a href=\"https://colab.research.google.com/github/aryansanchiya/Machine-Learning/blob/main/Exercise_01.ipynb\" target=\"_parent\"><img src=\"https://colab.research.google.com/assets/colab-badge.svg\" alt=\"Open In Colab\"/></a>"
      ]
    },
    {
      "cell_type": "code",
      "execution_count": 1,
      "metadata": {
        "id": "bje9daWw9MwP"
      },
      "outputs": [],
      "source": [
        "import torch"
      ]
    },
    {
      "cell_type": "code",
      "source": [
        "random_tensor = torch.rand(7,7)"
      ],
      "metadata": {
        "id": "yG78RBVW9XMa"
      },
      "execution_count": 2,
      "outputs": []
    },
    {
      "cell_type": "code",
      "source": [
        "random_tensor"
      ],
      "metadata": {
        "colab": {
          "base_uri": "https://localhost:8080/"
        },
        "id": "vzS_2wqW9b6H",
        "outputId": "fcab0bf2-87dd-4389-a55a-6145f782d257"
      },
      "execution_count": 3,
      "outputs": [
        {
          "output_type": "execute_result",
          "data": {
            "text/plain": [
              "tensor([[0.8836, 0.6187, 0.9546, 0.3554, 0.4340, 0.9001, 0.3974],\n",
              "        [0.6246, 0.0753, 0.1107, 0.8346, 0.5026, 0.6902, 0.9516],\n",
              "        [0.8389, 0.0366, 0.8437, 0.0456, 0.8321, 0.6547, 0.9755],\n",
              "        [0.1906, 0.0647, 0.8558, 0.0401, 0.8953, 0.9837, 0.3457],\n",
              "        [0.3134, 0.8588, 0.9645, 0.3169, 0.2657, 0.9533, 0.5799],\n",
              "        [0.4193, 0.7535, 0.8822, 0.8755, 0.2536, 0.2145, 0.9773],\n",
              "        [0.0069, 0.9750, 0.8177, 0.0692, 0.2118, 0.1422, 0.1133]])"
            ]
          },
          "metadata": {},
          "execution_count": 3
        }
      ]
    },
    {
      "cell_type": "code",
      "source": [
        "random_tensor2 = torch.rand(7,1)"
      ],
      "metadata": {
        "id": "Fv8IKce89dmA"
      },
      "execution_count": 4,
      "outputs": []
    },
    {
      "cell_type": "code",
      "source": [
        "random_tensor2.T"
      ],
      "metadata": {
        "colab": {
          "base_uri": "https://localhost:8080/"
        },
        "id": "O6dS3XF99lOm",
        "outputId": "f36264c9-ffd9-4085-ff4b-3c2cffbd7327"
      },
      "execution_count": 5,
      "outputs": [
        {
          "output_type": "execute_result",
          "data": {
            "text/plain": [
              "tensor([[0.4733, 0.1714, 0.0820, 0.4627, 0.2027, 0.4668, 0.5867]])"
            ]
          },
          "metadata": {},
          "execution_count": 5
        }
      ]
    },
    {
      "cell_type": "code",
      "source": [
        "random_tensor.T"
      ],
      "metadata": {
        "colab": {
          "base_uri": "https://localhost:8080/"
        },
        "id": "ozkxrlt_9nwc",
        "outputId": "5fb92613-b1b3-4361-d389-fa6b7e01a56d"
      },
      "execution_count": 6,
      "outputs": [
        {
          "output_type": "execute_result",
          "data": {
            "text/plain": [
              "tensor([[0.8836, 0.6246, 0.8389, 0.1906, 0.3134, 0.4193, 0.0069],\n",
              "        [0.6187, 0.0753, 0.0366, 0.0647, 0.8588, 0.7535, 0.9750],\n",
              "        [0.9546, 0.1107, 0.8437, 0.8558, 0.9645, 0.8822, 0.8177],\n",
              "        [0.3554, 0.8346, 0.0456, 0.0401, 0.3169, 0.8755, 0.0692],\n",
              "        [0.4340, 0.5026, 0.8321, 0.8953, 0.2657, 0.2536, 0.2118],\n",
              "        [0.9001, 0.6902, 0.6547, 0.9837, 0.9533, 0.2145, 0.1422],\n",
              "        [0.3974, 0.9516, 0.9755, 0.3457, 0.5799, 0.9773, 0.1133]])"
            ]
          },
          "metadata": {},
          "execution_count": 6
        }
      ]
    },
    {
      "cell_type": "code",
      "source": [
        "torch.matmul(random_tensor,random_tensor2)"
      ],
      "metadata": {
        "colab": {
          "base_uri": "https://localhost:8080/"
        },
        "id": "YA02LNbC90dj",
        "outputId": "d6da5e90-0d41-40ae-a947-ebd18a11428b"
      },
      "execution_count": 7,
      "outputs": [
        {
          "output_type": "execute_result",
          "data": {
            "text/plain": [
              "tensor([[1.5083],\n",
              "        [1.6862],\n",
              "        [1.5403],\n",
              "        [1.0336],\n",
              "        [1.3604],\n",
              "        [1.5300],\n",
              "        [0.4452]])"
            ]
          },
          "metadata": {},
          "execution_count": 7
        }
      ]
    },
    {
      "cell_type": "code",
      "source": [
        "#Random_seed\n",
        "RANDOM_SEED = 0\n",
        "torch.manual_seed(RANDOM_SEED)\n",
        "tensor_x = torch.rand(7,7)\n",
        "torch.manual_seed(RANDOM_SEED)\n",
        "tensor_y = torch.rand(1,7)\n"
      ],
      "metadata": {
        "id": "WJkc0vbN-PqW"
      },
      "execution_count": 8,
      "outputs": []
    },
    {
      "cell_type": "code",
      "source": [
        "tensor_x"
      ],
      "metadata": {
        "colab": {
          "base_uri": "https://localhost:8080/"
        },
        "id": "7eL5CVDP_6xR",
        "outputId": "ccbd5aa1-9355-4d98-8214-89d8995fa47c"
      },
      "execution_count": 9,
      "outputs": [
        {
          "output_type": "execute_result",
          "data": {
            "text/plain": [
              "tensor([[0.4963, 0.7682, 0.0885, 0.1320, 0.3074, 0.6341, 0.4901],\n",
              "        [0.8964, 0.4556, 0.6323, 0.3489, 0.4017, 0.0223, 0.1689],\n",
              "        [0.2939, 0.5185, 0.6977, 0.8000, 0.1610, 0.2823, 0.6816],\n",
              "        [0.9152, 0.3971, 0.8742, 0.4194, 0.5529, 0.9527, 0.0362],\n",
              "        [0.1852, 0.3734, 0.3051, 0.9320, 0.1759, 0.2698, 0.1507],\n",
              "        [0.0317, 0.2081, 0.9298, 0.7231, 0.7423, 0.5263, 0.2437],\n",
              "        [0.5846, 0.0332, 0.1387, 0.2422, 0.8155, 0.7932, 0.2783]])"
            ]
          },
          "metadata": {},
          "execution_count": 9
        }
      ]
    },
    {
      "cell_type": "code",
      "source": [
        "tensor_y"
      ],
      "metadata": {
        "colab": {
          "base_uri": "https://localhost:8080/"
        },
        "id": "3HXKtFdh_8Po",
        "outputId": "44716f55-9d52-424d-b741-804e57d8306d"
      },
      "execution_count": 10,
      "outputs": [
        {
          "output_type": "execute_result",
          "data": {
            "text/plain": [
              "tensor([[0.4963, 0.7682, 0.0885, 0.1320, 0.3074, 0.6341, 0.4901]])"
            ]
          },
          "metadata": {},
          "execution_count": 10
        }
      ]
    },
    {
      "cell_type": "code",
      "source": [
        "tensor_y.T"
      ],
      "metadata": {
        "colab": {
          "base_uri": "https://localhost:8080/"
        },
        "id": "-JB6B5rT_-Fg",
        "outputId": "1aa4d88f-b407-4e40-b322-0fd0e06328a0"
      },
      "execution_count": 11,
      "outputs": [
        {
          "output_type": "execute_result",
          "data": {
            "text/plain": [
              "tensor([[0.4963],\n",
              "        [0.7682],\n",
              "        [0.0885],\n",
              "        [0.1320],\n",
              "        [0.3074],\n",
              "        [0.6341],\n",
              "        [0.4901]])"
            ]
          },
          "metadata": {},
          "execution_count": 11
        }
      ]
    },
    {
      "cell_type": "code",
      "source": [
        "tensor_y.shape"
      ],
      "metadata": {
        "colab": {
          "base_uri": "https://localhost:8080/"
        },
        "id": "zZ7jlPdOAG4P",
        "outputId": "21bfab81-90c6-483a-fe78-3903d535fc7c"
      },
      "execution_count": 12,
      "outputs": [
        {
          "output_type": "execute_result",
          "data": {
            "text/plain": [
              "torch.Size([1, 7])"
            ]
          },
          "metadata": {},
          "execution_count": 12
        }
      ]
    },
    {
      "cell_type": "code",
      "source": [
        "torch.matmul(tensor_y,tensor_x)"
      ],
      "metadata": {
        "colab": {
          "base_uri": "https://localhost:8080/"
        },
        "id": "g_fOQwqfAJra",
        "outputId": "94d7efbf-5498-4b2d-a10c-04c487d65ab1"
      },
      "execution_count": 13,
      "outputs": [
        {
          "output_type": "execute_result",
          "data": {
            "text/plain": [
              "tensor([[1.4453, 1.0926, 1.4581, 1.3235, 1.4729, 1.2880, 0.7752]])"
            ]
          },
          "metadata": {},
          "execution_count": 13
        }
      ]
    },
    {
      "cell_type": "code",
      "source": [
        "torch.manual_seed(1234)\n",
        "tensor_a = torch.rand(2,3)\n",
        "torch.manual_seed(1234)\n",
        "tensor_b = torch.rand(2,3)"
      ],
      "metadata": {
        "id": "TYlp9WrQASof"
      },
      "execution_count": 17,
      "outputs": []
    },
    {
      "cell_type": "code",
      "source": [
        "tensor_a,tensor_b"
      ],
      "metadata": {
        "colab": {
          "base_uri": "https://localhost:8080/"
        },
        "id": "7ZomR5pFB6nG",
        "outputId": "bef3d3e7-2257-497e-b6b8-4cc5c03bd6c7"
      },
      "execution_count": 18,
      "outputs": [
        {
          "output_type": "execute_result",
          "data": {
            "text/plain": [
              "(tensor([[0.0290, 0.4019, 0.2598],\n",
              "         [0.3666, 0.0583, 0.7006]]),\n",
              " tensor([[0.0290, 0.4019, 0.2598],\n",
              "         [0.3666, 0.0583, 0.7006]]))"
            ]
          },
          "metadata": {},
          "execution_count": 18
        }
      ]
    },
    {
      "cell_type": "code",
      "source": [
        "if torch.cuda.is_available():\n",
        "  torch.cuda.manual_seed(1234)\n",
        "  torch.cuda.manual_seed_all(1234)\n",
        "\n",
        "  tensor_a_gpu = torch.rand(2,3).cuda()\n",
        "  tensor_b_gpu = torch.rand(2,3).cuda()\n",
        "\n",
        "  print(tensor_a_gpu)\n",
        "  print(tensor_b_gpu)\n",
        "\n",
        "  matm = torch.matmul(tensor_a_gpu.T,tensor_b_gpu)\n",
        "\n",
        "  print(matm)\n"
      ],
      "metadata": {
        "colab": {
          "base_uri": "https://localhost:8080/"
        },
        "id": "Iz5YYWoXCIc1",
        "outputId": "3c1dfab1-6a39-473c-aa3b-34b8578576ac"
      },
      "execution_count": 31,
      "outputs": [
        {
          "output_type": "stream",
          "name": "stdout",
          "text": [
            "tensor([[0.0518, 0.4681, 0.6738],\n",
            "        [0.3315, 0.7837, 0.5631]], device='cuda:0')\n",
            "tensor([[0.7749, 0.8208, 0.2793],\n",
            "        [0.6817, 0.2837, 0.6567]], device='cuda:0')\n",
            "tensor([[0.2661, 0.1365, 0.2321],\n",
            "        [0.8970, 0.6066, 0.6454],\n",
            "        [0.9059, 0.7128, 0.5580]], device='cuda:0')\n"
          ]
        }
      ]
    },
    {
      "cell_type": "code",
      "source": [
        " matm.min()"
      ],
      "metadata": {
        "colab": {
          "base_uri": "https://localhost:8080/"
        },
        "id": "l6NS_WzSDEA6",
        "outputId": "b7451009-be74-48fa-c37b-3eeeac00111e"
      },
      "execution_count": 32,
      "outputs": [
        {
          "output_type": "execute_result",
          "data": {
            "text/plain": [
              "tensor(0.1365, device='cuda:0')"
            ]
          },
          "metadata": {},
          "execution_count": 32
        }
      ]
    },
    {
      "cell_type": "code",
      "source": [
        "matm.max()"
      ],
      "metadata": {
        "colab": {
          "base_uri": "https://localhost:8080/"
        },
        "id": "uVb4njAqEA3T",
        "outputId": "6c9d2ded-5387-4bbf-d9ee-8635425c1612"
      },
      "execution_count": 26,
      "outputs": [
        {
          "output_type": "execute_result",
          "data": {
            "text/plain": [
              "tensor(0.5584, device='cuda:0')"
            ]
          },
          "metadata": {},
          "execution_count": 26
        }
      ]
    },
    {
      "cell_type": "code",
      "source": [
        "matm.argmin()"
      ],
      "metadata": {
        "colab": {
          "base_uri": "https://localhost:8080/"
        },
        "id": "H_ZKGhqBEKTI",
        "outputId": "04968078-d533-465b-ef33-4fb46ee11f76"
      },
      "execution_count": 28,
      "outputs": [
        {
          "output_type": "execute_result",
          "data": {
            "text/plain": [
              "tensor(1, device='cuda:0')"
            ]
          },
          "metadata": {},
          "execution_count": 28
        }
      ]
    },
    {
      "cell_type": "code",
      "source": [
        "matm.argmax()"
      ],
      "metadata": {
        "colab": {
          "base_uri": "https://localhost:8080/"
        },
        "id": "Iwrn0DxbEehA",
        "outputId": "29265d53-2fec-4294-e92d-fe8bd18c07ae"
      },
      "execution_count": 29,
      "outputs": [
        {
          "output_type": "execute_result",
          "data": {
            "text/plain": [
              "tensor(8, device='cuda:0')"
            ]
          },
          "metadata": {},
          "execution_count": 29
        }
      ]
    },
    {
      "cell_type": "code",
      "source": [],
      "metadata": {
        "id": "b6e4wjq8Ei5h"
      },
      "execution_count": null,
      "outputs": []
    }
  ]
}