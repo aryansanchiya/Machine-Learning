{
  "nbformat": 4,
  "nbformat_minor": 0,
  "metadata": {
    "colab": {
      "provenance": [],
      "authorship_tag": "ABX9TyMy6lCyvj300NusmHjSksjU",
      "include_colab_link": true
    },
    "kernelspec": {
      "name": "python3",
      "display_name": "Python 3"
    },
    "language_info": {
      "name": "python"
    }
  },
  "cells": [
    {
      "cell_type": "markdown",
      "metadata": {
        "id": "view-in-github",
        "colab_type": "text"
      },
      "source": [
        "<a href=\"https://colab.research.google.com/github/aryansanchiya/Machine-Learning/blob/main/PyTorch_Workflow.ipynb\" target=\"_parent\"><img src=\"https://colab.research.google.com/assets/colab-badge.svg\" alt=\"Open In Colab\"/></a>"
      ]
    },
    {
      "cell_type": "markdown",
      "source": [],
      "metadata": {
        "id": "nga8ja70_hSF"
      }
    },
    {
      "cell_type": "code",
      "execution_count": 1,
      "metadata": {
        "id": "EhTwjP4g_RBF"
      },
      "outputs": [],
      "source": [
        "#PyTorch End to end workflow"
      ]
    },
    {
      "cell_type": "markdown",
      "source": [
        "*What we are going to cover?*\n",
        "\n",
        "`1. Data(Prepare and load)`\n",
        "\n",
        "`2. Build a model`\n",
        "\n",
        "`3. Fitting the model to Data.`\n",
        "\n",
        "`4. Making Predictions and evalution on a model(Training)`\n",
        "\n",
        "`5. Saving and loading Model`\n",
        "\n",
        "`6. Putting it all together`\n",
        "\n",
        "\n"
      ],
      "metadata": {
        "id": "QFIKgCEXAb3J"
      }
    },
    {
      "cell_type": "code",
      "source": [
        "import torch\n",
        "import torch.nn as nn #nn imports all building blocks of neural network\n",
        "import matplotlib.pyplot as plt"
      ],
      "metadata": {
        "id": "gkTsEGdM_2fN"
      },
      "execution_count": 2,
      "outputs": []
    },
    {
      "cell_type": "code",
      "source": [],
      "metadata": {
        "id": "zCYyIBkpcMij"
      },
      "execution_count": 2,
      "outputs": []
    },
    {
      "cell_type": "code",
      "source": [
        "#Data Preparing and loading\n",
        "#Data can be anything, Excel SpreadSheet, Images of anykind, Youtube Videos, Audios or Podcast, DNA or Text\n",
        "#Machine Learning is game of two Parts: 1)Get data into numerical representation 2)Build a modelto learn patterns in that numerical representation."
      ],
      "metadata": {
        "id": "lsgOl4gBCZY8"
      },
      "execution_count": 3,
      "outputs": []
    },
    {
      "cell_type": "markdown",
      "source": [
        "We will use a linear regression formula to make a straight line with **known** **parameters**.\n",
        "\n",
        "**Parameters** are something that model learns.\n",
        "\n",
        "Formula of Linear Regression is :- **y = a + bx**\n",
        "\n",
        "weight = b\n",
        "\n",
        "bias = a"
      ],
      "metadata": {
        "id": "RGlC_vx6PsDY"
      }
    },
    {
      "cell_type": "code",
      "source": [
        "#Create known Parameters\n",
        "\n",
        "weight = 0.8\n",
        "bias = 0.3\n",
        "\n",
        "#Create\n",
        "start = 0\n",
        "end = 1\n",
        "step = 0.02\n",
        "\n",
        "X = torch.arange(start,end,step).unsqueeze(dim=1)\n",
        "y = weight * X + bias\n",
        "\n"
      ],
      "metadata": {
        "id": "jO7OH9niO3IW"
      },
      "execution_count": 4,
      "outputs": []
    },
    {
      "cell_type": "code",
      "source": [
        "X[:10],y[:10]"
      ],
      "metadata": {
        "colab": {
          "base_uri": "https://localhost:8080/"
        },
        "id": "TQ0I3ii8R4t7",
        "outputId": "5965e207-8f9e-4834-cbd0-3626fe9bd0c1"
      },
      "execution_count": 5,
      "outputs": [
        {
          "output_type": "execute_result",
          "data": {
            "text/plain": [
              "(tensor([[0.0000],\n",
              "         [0.0200],\n",
              "         [0.0400],\n",
              "         [0.0600],\n",
              "         [0.0800],\n",
              "         [0.1000],\n",
              "         [0.1200],\n",
              "         [0.1400],\n",
              "         [0.1600],\n",
              "         [0.1800]]),\n",
              " tensor([[0.3000],\n",
              "         [0.3160],\n",
              "         [0.3320],\n",
              "         [0.3480],\n",
              "         [0.3640],\n",
              "         [0.3800],\n",
              "         [0.3960],\n",
              "         [0.4120],\n",
              "         [0.4280],\n",
              "         [0.4440]]))"
            ]
          },
          "metadata": {},
          "execution_count": 5
        }
      ]
    },
    {
      "cell_type": "code",
      "source": [
        "len(X), len(y)"
      ],
      "metadata": {
        "colab": {
          "base_uri": "https://localhost:8080/"
        },
        "id": "qM_Oda1kR7l0",
        "outputId": "4c022f4c-667c-4e16-d23e-8f984f8e6660"
      },
      "execution_count": 6,
      "outputs": [
        {
          "output_type": "execute_result",
          "data": {
            "text/plain": [
              "(50, 50)"
            ]
          },
          "metadata": {},
          "execution_count": 6
        }
      ]
    },
    {
      "cell_type": "markdown",
      "source": [
        "Tutorial - 43\n",
        "\n",
        "[Splitting Data into Training and Test sets](https://www.udemy.com/course/pytorch-for-deep-learning/learn/lecture/32686050#content)\n",
        "\n",
        "**One of the most important concept in machine learning**\n",
        "\n",
        "Lets create training and test set for the data."
      ],
      "metadata": {
        "id": "tTQYfVwBTXj3"
      }
    },
    {
      "cell_type": "code",
      "source": [
        "train_split = int(0.8 * len(X))\n",
        "X_train,y_train = X[ :train_split],y[ :train_split]\n",
        "X_test,y_test = X[train_split: ],y[train_split: ]\n",
        "\n",
        "len(X_train),len(y_train),len(X_test),len(y_train)"
      ],
      "metadata": {
        "colab": {
          "base_uri": "https://localhost:8080/"
        },
        "id": "yUVoxkQFSWi3",
        "outputId": "afe0dac9-68c0-4993-8d47-77286a6760cd"
      },
      "execution_count": 7,
      "outputs": [
        {
          "output_type": "execute_result",
          "data": {
            "text/plain": [
              "(40, 40, 10, 40)"
            ]
          },
          "metadata": {},
          "execution_count": 7
        }
      ]
    },
    {
      "cell_type": "code",
      "source": [
        "#Visulization of the Data:\n",
        "def plot_predict(train_data = X_train,\n",
        "                 train_label = y_train,\n",
        "                 test_data = X_test,\n",
        "                 test_label = y_test,\n",
        "                 predictions = None):\n",
        "  \"\"\"\n",
        "  Plots Training Data and compares predictions\n",
        "  \"\"\"\n",
        "  plt.figure(figsize=(10,7))\n",
        "\n",
        "  #plot training data into blue:\n",
        "  plt.scatter(train_data, train_label, c=\"b\", s=4, label=\"Traning Data\")\n",
        "\n",
        "  #plot test data into green:\n",
        "  plt.scatter(test_data, test_label, c=\"g\", s=4, label=\"Testing Data\")\n",
        "\n",
        "  #Are there predictions:\n",
        "  if predictions is not None:\n",
        "    plt.scatter(test_data, predictions, c=\"r\", s=4, label = \"Predictions\")\n",
        "\n",
        "    plt.legend(prop={\"size\":14});\n",
        "\n"
      ],
      "metadata": {
        "id": "2RJOnPPmWEDW"
      },
      "execution_count": 8,
      "outputs": []
    },
    {
      "cell_type": "code",
      "source": [
        "plot_predict()"
      ],
      "metadata": {
        "colab": {
          "base_uri": "https://localhost:8080/",
          "height": 599
        },
        "id": "A9jY-6DtmhUn",
        "outputId": "64a7949f-baa5-4b4c-fcf8-0fa83e8d9e6d"
      },
      "execution_count": 9,
      "outputs": [
        {
          "output_type": "display_data",
          "data": {
            "text/plain": [
              "<Figure size 1000x700 with 1 Axes>"
            ],
            "image/png": "[encoded data removed]"
          },
          "metadata": {}
        }
      ]
    },
    {
      "cell_type": "code",
      "source": [
        "torch.randn(1)"
      ],
      "metadata": {
        "colab": {
          "base_uri": "https://localhost:8080/"
        },
        "id": "CourMw4EdGUY",
        "outputId": "334eb753-d7c7-423f-984a-b3c4af92e888"
      },
      "execution_count": 10,
      "outputs": [
        {
          "output_type": "execute_result",
          "data": {
            "text/plain": [
              "tensor([-0.6027])"
            ]
          },
          "metadata": {},
          "execution_count": 10
        }
      ]
    },
    {
      "cell_type": "code",
      "source": [
        "#2. Build first PyTorch Model:\n",
        "# Create Linear Regresssion Model class:\n",
        "# <-- almost everything in PyTorch inherits from nn.module\n",
        "\n",
        "class LinearRegressionModel(nn.Module):\n",
        "  def __init__(self):\n",
        "    super().__init__()\n",
        "    self.weight = nn.Parameter(torch.randn(1,\n",
        "                                            requires_grad=True,\n",
        "                                            dtype = torch.float))\n",
        "    self.bias = nn.Parameter(torch.randn(1,\n",
        "                                         requires_grad=True,\n",
        "                                         dtype = torch.float))\n",
        "  def forward(self, x: torch.Tensor) -> torch.Tensor:\n",
        "    return self.weight * x + self.bias\n",
        "#Forward method to define the computation in the model.\n"
      ],
      "metadata": {
        "id": "bOkH1r5bnKCX"
      },
      "execution_count": 11,
      "outputs": []
    },
    {
      "cell_type": "markdown",
      "source": [
        "**What our Model does?**\n",
        "\n",
        "--> Start with random values (weight & bias)\n",
        "\n",
        "\n",
        "--> Look at training data and adjust the random values to better represent (or get closer to) the ideal values (the weight and bias values we used to create data)\n",
        "\n",
        "\n",
        "**So How does it do so?**\n",
        "\n",
        "--> Through main two algorithms:\n",
        "\n",
        "1) Gradient Decent\n",
        "\n",
        "2) Backpropagation"
      ],
      "metadata": {
        "id": "c8Injonb8XmC"
      }
    },
    {
      "cell_type": "markdown",
      "source": [
        "So we can check our model parameters or whats inside our model using .parameteres()."
      ],
      "metadata": {
        "id": "7mdNXIMtagTg"
      }
    },
    {
      "cell_type": "code",
      "source": [
        "#Checking the contents of out PyTorch Model:\n",
        "\n",
        "#Create a Random Seed:\n",
        "torch.manual_seed(42)\n",
        "\n",
        "#Create an instace of the model (this is subclass of nn.Module)\n",
        "model_0 = LinearRegressionModel()\n",
        "\n",
        "list(model_0.parameters())"
      ],
      "metadata": {
        "id": "wG6ZjUTR8312",
        "colab": {
          "base_uri": "https://localhost:8080/"
        },
        "outputId": "b3f98b5b-0b01-4ef9-ac5a-225fd0a2a96c"
      },
      "execution_count": 12,
      "outputs": [
        {
          "output_type": "execute_result",
          "data": {
            "text/plain": [
              "[Parameter containing:\n",
              " tensor([0.3367], requires_grad=True),\n",
              " Parameter containing:\n",
              " tensor([0.1288], requires_grad=True)]"
            ]
          },
          "metadata": {},
          "execution_count": 12
        }
      ]
    },
    {
      "cell_type": "code",
      "source": [
        "model_0.state_dict()"
      ],
      "metadata": {
        "colab": {
          "base_uri": "https://localhost:8080/"
        },
        "id": "2QBXg07PciQm",
        "outputId": "6178eeac-ca23-469c-ac06-ba288c4fe5b4"
      },
      "execution_count": 13,
      "outputs": [
        {
          "output_type": "execute_result",
          "data": {
            "text/plain": [
              "OrderedDict([('weight', tensor([0.3367])), ('bias', tensor([0.1288]))])"
            ]
          },
          "metadata": {},
          "execution_count": 13
        }
      ]
    },
    {
      "cell_type": "code",
      "source": [
        "weight,bias"
      ],
      "metadata": {
        "colab": {
          "base_uri": "https://localhost:8080/"
        },
        "id": "3U89wKaNd5fT",
        "outputId": "e00e9b95-417f-4201-b45a-5cd57d805d63"
      },
      "execution_count": 14,
      "outputs": [
        {
          "output_type": "execute_result",
          "data": {
            "text/plain": [
              "(0.8, 0.3)"
            ]
          },
          "metadata": {},
          "execution_count": 14
        }
      ]
    },
    {
      "cell_type": "markdown",
      "source": [
        " Making Predictions using `torch.inference_mode()`\n",
        "\n",
        " When we pass data through our model, its going to run it through the `forward()`method."
      ],
      "metadata": {
        "id": "PzWH0giTfEKD"
      }
    },
    {
      "cell_type": "code",
      "source": [
        "X_test, y_test"
      ],
      "metadata": {
        "colab": {
          "base_uri": "https://localhost:8080/"
        },
        "id": "VafFRwrIfqqi",
        "outputId": "eb650fb9-f6c0-4098-8031-fcf339442428"
      },
      "execution_count": 15,
      "outputs": [
        {
          "output_type": "execute_result",
          "data": {
            "text/plain": [
              "(tensor([[0.8000],\n",
              "         [0.8200],\n",
              "         [0.8400],\n",
              "         [0.8600],\n",
              "         [0.8800],\n",
              "         [0.9000],\n",
              "         [0.9200],\n",
              "         [0.9400],\n",
              "         [0.9600],\n",
              "         [0.9800]]),\n",
              " tensor([[0.9400],\n",
              "         [0.9560],\n",
              "         [0.9720],\n",
              "         [0.9880],\n",
              "         [1.0040],\n",
              "         [1.0200],\n",
              "         [1.0360],\n",
              "         [1.0520],\n",
              "         [1.0680],\n",
              "         [1.0840]]))"
            ]
          },
          "metadata": {},
          "execution_count": 15
        }
      ]
    },
    {
      "cell_type": "code",
      "source": [
        "#Make Predictions with our models\n",
        "with torch.inference_mode():\n",
        "  y_preds = model_0(X_test)\n",
        "\n",
        "y_preds"
      ],
      "metadata": {
        "colab": {
          "base_uri": "https://localhost:8080/"
        },
        "id": "rpEizH3ld8DI",
        "outputId": "142b9979-3abb-45bf-e05f-cb3f5aabbc03"
      },
      "execution_count": 16,
      "outputs": [
        {
          "output_type": "execute_result",
          "data": {
            "text/plain": [
              "tensor([[0.3982],\n",
              "        [0.4049],\n",
              "        [0.4116],\n",
              "        [0.4184],\n",
              "        [0.4251],\n",
              "        [0.4318],\n",
              "        [0.4386],\n",
              "        [0.4453],\n",
              "        [0.4520],\n",
              "        [0.4588]])"
            ]
          },
          "metadata": {},
          "execution_count": 16
        }
      ]
    },
    {
      "cell_type": "code",
      "source": [
        "y_test"
      ],
      "metadata": {
        "colab": {
          "base_uri": "https://localhost:8080/"
        },
        "id": "5caBHasygin2",
        "outputId": "af5b54fb-2f02-40a1-acf1-6ba368eac0b9"
      },
      "execution_count": 17,
      "outputs": [
        {
          "output_type": "execute_result",
          "data": {
            "text/plain": [
              "tensor([[0.9400],\n",
              "        [0.9560],\n",
              "        [0.9720],\n",
              "        [0.9880],\n",
              "        [1.0040],\n",
              "        [1.0200],\n",
              "        [1.0360],\n",
              "        [1.0520],\n",
              "        [1.0680],\n",
              "        [1.0840]])"
            ]
          },
          "metadata": {},
          "execution_count": 17
        }
      ]
    },
    {
      "cell_type": "code",
      "source": [
        "plot_predict(predictions=y_preds)"
      ],
      "metadata": {
        "colab": {
          "base_uri": "https://localhost:8080/",
          "height": 599
        },
        "id": "DAveBlaFiABY",
        "outputId": "91e56459-8eb6-43d7-db95-b2701499ead6"
      },
      "execution_count": 18,
      "outputs": [
        {
          "output_type": "display_data",
          "data": {
            "text/plain": [
              "<Figure size 1000x700 with 1 Axes>"
            ],
            "image/png": "[encoded data removed]"
          },
          "metadata": {}
        }
      ]
    },
    {
      "cell_type": "code",
      "source": [
        "##Train Model\n",
        "\n",
        "#The whole idea of training is for a model to move from some *unknown* parameters\n",
        "# Or In other words from a poor representation of the data to better representation\n",
        "\n",
        "# One way to measure how poor or how wrong your models predictions are is to use a loss function.\n",
        "\n",
        "#Things we need to train the model:\n",
        "\n",
        "#Loss function may also be called cost funtion or criterion in diffrent areas.\n",
        "#Loss function is a function to measure how wrong your model's predictions are to the ideal output.\n",
        "#Optimizer takes into account the loss of a model and adjust the model's parameters to imporove the loss function.\n",
        "\n",
        "#and specifically for Pytorch, we need :\n",
        "# A training Loop\n",
        "# A Testing Loop\n",
        "\n"
      ],
      "metadata": {
        "id": "DuFVy0XXiOQG"
      },
      "execution_count": 21,
      "outputs": []
    },
    {
      "cell_type": "code",
      "source": [
        "\n"
      ],
      "metadata": {
        "id": "7GnL1Wj8Zn5M"
      },
      "execution_count": null,
      "outputs": []
    }
  ]
}