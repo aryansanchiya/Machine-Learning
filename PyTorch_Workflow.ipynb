{
  "nbformat": 4,
  "nbformat_minor": 0,
  "metadata": {
    "colab": {
      "provenance": [],
      "authorship_tag": "ABX9TyPYNRkFMdsL8KRa1LouLdl2",
      "include_colab_link": true
    },
    "kernelspec": {
      "name": "python3",
      "display_name": "Python 3"
    },
    "language_info": {
      "name": "python"
    }
  },
  "cells": [
    {
      "cell_type": "markdown",
      "metadata": {
        "id": "view-in-github",
        "colab_type": "text"
      },
      "source": [
        "<a href=\"https://colab.research.google.com/github/aryansanchiya/Machine-Learning/blob/main/PyTorch_Workflow.ipynb\" target=\"_parent\"><img src=\"https://colab.research.google.com/assets/colab-badge.svg\" alt=\"Open In Colab\"/></a>"
      ]
    },
    {
      "cell_type": "markdown",
      "source": [],
      "metadata": {
        "id": "nga8ja70_hSF"
      }
    },
    {
      "cell_type": "code",
      "execution_count": 3,
      "metadata": {
        "id": "EhTwjP4g_RBF"
      },
      "outputs": [],
      "source": [
        "#PyTorch End to end workflow"
      ]
    },
    {
      "cell_type": "markdown",
      "source": [
        "*What we are going to cover?*\n",
        "\n",
        "`1. Data(Prepare and load)`\n",
        "\n",
        "`2. Build a model`\n",
        "\n",
        "`3. Fitting the model to Data.`\n",
        "\n",
        "`4. Making Predictions and evalution on a model(Training)`\n",
        "\n",
        "`5. Saving and loading Model`\n",
        "\n",
        "`6. Putting it all together`\n",
        "\n",
        "\n"
      ],
      "metadata": {
        "id": "QFIKgCEXAb3J"
      }
    },
    {
      "cell_type": "code",
      "source": [
        "import torch\n",
        "from torch import nn #nn imports all building blocks of neural network\n",
        "import matplotlib.pyplot as plt"
      ],
      "metadata": {
        "id": "gkTsEGdM_2fN"
      },
      "execution_count": 26,
      "outputs": []
    },
    {
      "cell_type": "code",
      "source": [
        "#Data Preparing and loading\n",
        "#Data can be anything, Excel SpreadSheet, Images of anykind, Youtube Videos, Audios or Podcast, DNA or Text\n",
        "#Machine Learning is game of two Parts: 1)Get data into numerical representation 2)Build a modelto learn patterns in that numerical representation."
      ],
      "metadata": {
        "id": "lsgOl4gBCZY8"
      },
      "execution_count": 5,
      "outputs": []
    },
    {
      "cell_type": "markdown",
      "source": [
        "We will use a linear regression formula to make a straight line with **known** **parameters**.\n",
        "\n",
        "**Parameters** are something that model learns.\n",
        "\n",
        "Formula of Linear Regression is :- **y = a + bx**\n",
        "\n",
        "weight = b\n",
        "\n",
        "bias = a"
      ],
      "metadata": {
        "id": "RGlC_vx6PsDY"
      }
    },
    {
      "cell_type": "code",
      "source": [
        "#Create known Parameters\n",
        "\n",
        "weight = 0.8\n",
        "bias = 0.3\n",
        "\n",
        "#Create\n",
        "start = 0\n",
        "end = 1\n",
        "step = 0.02\n",
        "\n",
        "X = torch.arange(start,end,step).unsqueeze(dim=1)\n",
        "y = weight * X + bias\n",
        "\n"
      ],
      "metadata": {
        "id": "jO7OH9niO3IW"
      },
      "execution_count": 6,
      "outputs": []
    },
    {
      "cell_type": "code",
      "source": [
        "X[:10],y[:10]"
      ],
      "metadata": {
        "colab": {
          "base_uri": "https://localhost:8080/"
        },
        "id": "TQ0I3ii8R4t7",
        "outputId": "3f3b2f1b-b2e4-4c74-d029-36fffe6fdec8"
      },
      "execution_count": 7,
      "outputs": [
        {
          "output_type": "execute_result",
          "data": {
            "text/plain": [
              "(tensor([[0.0000],\n",
              "         [0.0200],\n",
              "         [0.0400],\n",
              "         [0.0600],\n",
              "         [0.0800],\n",
              "         [0.1000],\n",
              "         [0.1200],\n",
              "         [0.1400],\n",
              "         [0.1600],\n",
              "         [0.1800]]),\n",
              " tensor([[0.3000],\n",
              "         [0.3160],\n",
              "         [0.3320],\n",
              "         [0.3480],\n",
              "         [0.3640],\n",
              "         [0.3800],\n",
              "         [0.3960],\n",
              "         [0.4120],\n",
              "         [0.4280],\n",
              "         [0.4440]]))"
            ]
          },
          "metadata": {},
          "execution_count": 7
        }
      ]
    },
    {
      "cell_type": "code",
      "source": [
        "len(X), len(y)"
      ],
      "metadata": {
        "colab": {
          "base_uri": "https://localhost:8080/"
        },
        "id": "qM_Oda1kR7l0",
        "outputId": "23f96b17-bfbf-4d95-c512-3314284b9aff"
      },
      "execution_count": 8,
      "outputs": [
        {
          "output_type": "execute_result",
          "data": {
            "text/plain": [
              "(50, 50)"
            ]
          },
          "metadata": {},
          "execution_count": 8
        }
      ]
    },
    {
      "cell_type": "markdown",
      "source": [
        "Tutorial - 43\n",
        "\n",
        "[Splitting Data into Training and Test sets](https://www.udemy.com/course/pytorch-for-deep-learning/learn/lecture/32686050#content)\n",
        "\n",
        "**One of the most important concept in machine learning**\n",
        "\n",
        "Lets create training and test set for the data."
      ],
      "metadata": {
        "id": "tTQYfVwBTXj3"
      }
    },
    {
      "cell_type": "code",
      "source": [
        "train_split = int(0.8 * len(X))\n",
        "X_train,y_train = X[ :train_split],y[ :train_split]\n",
        "X_test,y_test = X[train_split: ],y[train_split: ]\n",
        "\n",
        "len(X_train),len(y_train),len(X_test),len(y_train)"
      ],
      "metadata": {
        "colab": {
          "base_uri": "https://localhost:8080/"
        },
        "id": "yUVoxkQFSWi3",
        "outputId": "66068692-1171-4bc5-f96e-c8df3947e9b4"
      },
      "execution_count": 23,
      "outputs": [
        {
          "output_type": "execute_result",
          "data": {
            "text/plain": [
              "(40, 40, 10, 40)"
            ]
          },
          "metadata": {},
          "execution_count": 23
        }
      ]
    },
    {
      "cell_type": "code",
      "source": [
        "#Visulization of the Data:\n",
        "def plot_predict(train_data = X_train,\n",
        "                 train_label = y_train,\n",
        "                 test_data = X_test,\n",
        "                 test_label = y_test,\n",
        "                 predictions = None):\n",
        "  \"\"\"\n",
        "  Plots Training Data and compares predictions\n",
        "  \"\"\"\n",
        "  plt.figure(figsize=(10,7))\n",
        "\n",
        "  #plot training data into blue:\n",
        "  plt.scatter(train_data, train_label, c=\"b\", s=4, label=\"Traning Data\")\n",
        "\n",
        "  #plot test data into green:\n",
        "  plt.scatter(test_data, test_label, c=\"g\", s=4, label=\"Testing Data\")\n",
        "\n",
        "  #Are there predictions:\n",
        "  if predictions is not None:\n",
        "    plt.scatter(test_data, predictions, c=\"r\", s=4, label = \"Predictions\")\n",
        "\n",
        "    plt.legend(prop={\"size\":14});\n",
        "\n",
        ""
      ],
      "metadata": {
        "id": "2RJOnPPmWEDW"
      },
      "execution_count": 29,
      "outputs": []
    },
    {
      "cell_type": "code",
      "source": [
        "plot_predict()"
      ],
      "metadata": {
        "colab": {
          "base_uri": "https://localhost:8080/",
          "height": 599
        },
        "id": "A9jY-6DtmhUn",
        "outputId": "81d54b28-82a2-4bdf-925b-b4e8f99c9edf"
      },
      "execution_count": 30,
      "outputs": [
        {
          "output_type": "display_data",
          "data": {
            "text/plain": [
              "<Figure size 1000x700 with 1 Axes>"
            ],
            "image/png": "[encoded data removed]"
          },
          "metadata": {}
        }
      ]
    },
    {
      "cell_type": "code",
      "source": [
        "#2. Build first PyTorch Model:\n",
        "# Create Linear Regresssion Model class:\n",
        "# <-- almost everything in PyTorch inherits from nn.module\n",
        "\n",
        "class LinearRegressionModel(nn.module):\n",
        "  def __init__(self):\n",
        "    super().__init__()\n",
        "    self.weight = nn.Parameter(torch.randn(1,\n",
        "                                            requires_grad=True,\n",
        "                                            dtype = torch.float))\n",
        "    self.bias = nn.Parameter(torch.randn(1,\n",
        "                                         requires_grad=True,\n",
        "                                         dtype = torch.float))\n",
        "\n",
        "    #Forward method to define the computation in the model.\n",
        "    def forward(self, x: torch.Tensor) -> torch.Tensor:\n",
        "      return self.weight * x + self.bias\n"
      ],
      "metadata": {
        "id": "bOkH1r5bnKCX"
      },
      "execution_count": null,
      "outputs": []
    },
    {
      "cell_type": "markdown",
      "source": [
        "**What our Model does?**\n",
        "\n",
        "--> Start with random values (weight & bias)\n",
        "\n",
        "\n",
        "--> Look at training data and adjust the random values to better represent (or get closer to) the ideal values (the weight and bias values we used to create data)\n",
        "\n",
        "\n",
        "**So How does it do so?**\n",
        "\n",
        "--> Through main two algorithms:\n",
        "\n",
        "1) Gradient Decent\n",
        "\n",
        "2) Backpropagation"
      ],
      "metadata": {
        "id": "c8Injonb8XmC"
      }
    },
    {
      "cell_type": "code",
      "source": [],
      "metadata": {
        "id": "wG6ZjUTR8312"
      },
      "execution_count": null,
      "outputs": []
    }
  ]
}