{
  "nbformat": 4,
  "nbformat_minor": 0,
  "metadata": {
    "colab": {
      "provenance": [],
      "authorship_tag": "ABX9TyNLtSlOuMRkwD83aOSDYcrF",
      "include_colab_link": true
    },
    "kernelspec": {
      "name": "python3",
      "display_name": "Python 3"
    },
    "language_info": {
      "name": "python"
    }
  },
  "cells": [
    {
      "cell_type": "markdown",
      "metadata": {
        "id": "view-in-github",
        "colab_type": "text"
      },
      "source": [
        "<a href=\"https://colab.research.google.com/github/aryansanchiya/Machine-Learning/blob/main/PyTorch_Workflow.ipynb\" target=\"_parent\"><img src=\"https://colab.research.google.com/assets/colab-badge.svg\" alt=\"Open In Colab\"/></a>"
      ]
    },
    {
      "cell_type": "markdown",
      "source": [],
      "metadata": {
        "id": "nga8ja70_hSF"
      }
    },
    {
      "cell_type": "code",
      "execution_count": 2,
      "metadata": {
        "id": "EhTwjP4g_RBF"
      },
      "outputs": [],
      "source": [
        "#PyTorch End to end workflow"
      ]
    },
    {
      "cell_type": "markdown",
      "source": [
        "*What we are going to cover?*\n",
        "\n",
        "`1. Data(Prepare and load)`\n",
        "\n",
        "`2. Build a model`\n",
        "\n",
        "`3. Fitting the model to Data.`\n",
        "\n",
        "`4. Making Predictions and evalution on a model(Training)`\n",
        "\n",
        "`5. Saving and loading Model`\n",
        "\n",
        "`6. Putting it all together`\n",
        "\n",
        "\n"
      ],
      "metadata": {
        "id": "QFIKgCEXAb3J"
      }
    },
    {
      "cell_type": "code",
      "source": [
        "import torch\n",
        "from torch import nn #nn imports all building blocks of neural network\n",
        "import matplotlib"
      ],
      "metadata": {
        "id": "gkTsEGdM_2fN"
      },
      "execution_count": 2,
      "outputs": []
    },
    {
      "cell_type": "code",
      "source": [
        "#Data Preparing and loading\n",
        "#Data can be anything, Excel SpreadSheet, Images of anykind, Youtube Videos, Audios or Podcast, DNA or Text\n",
        "#Machine Learning is game of two Parts: 1)Get data into numerical representation 2)Build a modelto learn patterns in that numerical representation."
      ],
      "metadata": {
        "id": "lsgOl4gBCZY8"
      },
      "execution_count": 1,
      "outputs": []
    },
    {
      "cell_type": "markdown",
      "source": [
        "We will use a linear regression formula to make a straight line with **known** **parameters**.\n",
        "\n",
        "**Parameters** are something that model learns.\n",
        "\n",
        "Formula of Linear Regression is :- **y = a + bx**\n",
        "\n",
        "weight = b\n",
        "\n",
        "bias = a"
      ],
      "metadata": {
        "id": "RGlC_vx6PsDY"
      }
    },
    {
      "cell_type": "code",
      "source": [
        "#Create known Parameters\n",
        "\n",
        "weight = 0.8\n",
        "bias = 0.3\n",
        "\n",
        "#Create\n",
        "start = 0\n",
        "end = 1\n",
        "step = 0.02\n",
        "\n",
        "X = torch.arange(start,end,step).unsqueeze(dim=1)\n",
        "y = weight * X + bias\n",
        "\n"
      ],
      "metadata": {
        "id": "jO7OH9niO3IW"
      },
      "execution_count": 16,
      "outputs": []
    },
    {
      "cell_type": "code",
      "source": [
        "X[:10],y[:10]"
      ],
      "metadata": {
        "colab": {
          "base_uri": "https://localhost:8080/"
        },
        "id": "TQ0I3ii8R4t7",
        "outputId": "b323a8ef-2989-4cf1-86a5-9aa2952618d9"
      },
      "execution_count": 17,
      "outputs": [
        {
          "output_type": "execute_result",
          "data": {
            "text/plain": [
              "(tensor([[0.0000],\n",
              "         [0.0200],\n",
              "         [0.0400],\n",
              "         [0.0600],\n",
              "         [0.0800],\n",
              "         [0.1000],\n",
              "         [0.1200],\n",
              "         [0.1400],\n",
              "         [0.1600],\n",
              "         [0.1800]]),\n",
              " tensor([[0.3000],\n",
              "         [0.3160],\n",
              "         [0.3320],\n",
              "         [0.3480],\n",
              "         [0.3640],\n",
              "         [0.3800],\n",
              "         [0.3960],\n",
              "         [0.4120],\n",
              "         [0.4280],\n",
              "         [0.4440]]))"
            ]
          },
          "metadata": {},
          "execution_count": 17
        }
      ]
    },
    {
      "cell_type": "code",
      "source": [
        "len(X), len(y)"
      ],
      "metadata": {
        "colab": {
          "base_uri": "https://localhost:8080/"
        },
        "id": "qM_Oda1kR7l0",
        "outputId": "c0312092-141a-4b0a-fd24-21e0fd56a0f5"
      },
      "execution_count": 14,
      "outputs": [
        {
          "output_type": "execute_result",
          "data": {
            "text/plain": [
              "(50, 50)"
            ]
          },
          "metadata": {},
          "execution_count": 14
        }
      ]
    },
    {
      "cell_type": "markdown",
      "source": [
        "Tutorial - 43\n",
        "\n",
        "[Splitting Data into Training and Test sets](https://www.udemy.com/course/pytorch-for-deep-learning/learn/lecture/32686050#content)\n",
        "\n",
        "**One of the most important concept in machine learning**\n",
        "\n",
        "Lets create training and test set for the data."
      ],
      "metadata": {
        "id": "tTQYfVwBTXj3"
      }
    },
    {
      "cell_type": "code",
      "source": [
        "train_split = int(0.8 * len(X))\n",
        "X_train,y_train = X[ :train_split],y[ :train_split]\n",
        "X_test,y_test = X[train_split: ],y[train_split: ]\n",
        "\n",
        "len(X_train),len(y_train),len(X_test),len(y_train)"
      ],
      "metadata": {
        "colab": {
          "base_uri": "https://localhost:8080/"
        },
        "id": "yUVoxkQFSWi3",
        "outputId": "06255179-483e-42c0-c53f-7420993f0c8a"
      },
      "execution_count": 19,
      "outputs": [
        {
          "output_type": "execute_result",
          "data": {
            "text/plain": [
              "(40, 40, 10, 40)"
            ]
          },
          "metadata": {},
          "execution_count": 19
        }
      ]
    },
    {
      "cell_type": "code",
      "source": [],
      "metadata": {
        "id": "2RJOnPPmWEDW"
      },
      "execution_count": null,
      "outputs": []
    }
  ]
}